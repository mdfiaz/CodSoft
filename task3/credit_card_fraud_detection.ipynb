{
 "cells": [
  {
   "cell_type": "markdown",
   "id": "ec90f210",
   "metadata": {
    "papermill": {
     "duration": 0.008531,
     "end_time": "2023-10-12T15:29:06.725730",
     "exception": false,
     "start_time": "2023-10-12T15:29:06.717199",
     "status": "completed"
    },
    "tags": []
   },
   "source": [
    "<div style=\"text-align: center;\">\n",
    "  <h1>CREDIT CARD FRAUD DETECTION</h1>\n",
    "</div>"
   ]
  },
  {
   "cell_type": "code",
   "execution_count": 1,
   "id": "a585e1a1",
   "metadata": {
    "execution": {
     "iopub.execute_input": "2023-10-12T15:29:06.742693Z",
     "iopub.status.busy": "2023-10-12T15:29:06.741263Z",
     "iopub.status.idle": "2023-10-12T15:29:09.696366Z",
     "shell.execute_reply": "2023-10-12T15:29:09.695069Z"
    },
    "papermill": {
     "duration": 2.965683,
     "end_time": "2023-10-12T15:29:09.698469",
     "exception": false,
     "start_time": "2023-10-12T15:29:06.732786",
     "status": "completed"
    },
    "tags": []
   },
   "outputs": [],
   "source": [
    "import numpy as np\n",
    "import pandas as pd\n",
    "import matplotlib.pyplot as plt\n",
    "import seaborn as sns\n",
    "from imblearn.over_sampling import SMOTE\n",
    "from collections import Counter\n",
    "from sklearn.model_selection import train_test_split\n",
    "from sklearn.linear_model import LogisticRegression\n",
    "from sklearn.metrics import confusion_matrix, classification_report\n",
    "from tabulate import tabulate\n"
   ]
  },
  {
   "cell_type": "markdown",
   "id": "0b2b422f",
   "metadata": {
    "papermill": {
     "duration": 0.007812,
     "end_time": "2023-10-12T15:29:09.729539",
     "exception": false,
     "start_time": "2023-10-12T15:29:09.721727",
     "status": "completed"
    },
    "tags": []
   },
   "source": [
    "### 1. Import The DataSet"
   ]
  },
  {
   "cell_type": "code",
   "execution_count": 2,
   "id": "ae360c47",
   "metadata": {
    "execution": {
     "iopub.execute_input": "2023-10-12T15:29:09.748872Z",
     "iopub.status.busy": "2023-10-12T15:29:09.748415Z",
     "iopub.status.idle": "2023-10-12T15:29:13.209552Z",
     "shell.execute_reply": "2023-10-12T15:29:13.208060Z"
    },
    "papermill": {
     "duration": 3.473492,
     "end_time": "2023-10-12T15:29:13.212082",
     "exception": false,
     "start_time": "2023-10-12T15:29:09.738590",
     "status": "completed"
    },
    "tags": []
   },
   "outputs": [],
   "source": [
    "credit_card = pd.read_csv(\"/dataset.csv\")"
   ]
  },
  {
   "cell_type": "markdown",
   "id": "1b19f107",
   "metadata": {
    "papermill": {
     "duration": 0.006695,
     "end_time": "2023-10-12T15:29:13.225999",
     "exception": false,
     "start_time": "2023-10-12T15:29:13.219304",
     "status": "completed"
    },
    "tags": []
   },
   "source": [
    "### 2. Exploratory Data Analysis (EDA)"
   ]
  },
  {
   "cell_type": "code",
   "execution_count": 3,
   "id": "8a07a1af",
   "metadata": {
    "execution": {
     "iopub.execute_input": "2023-10-12T15:29:13.241750Z",
     "iopub.status.busy": "2023-10-12T15:29:13.241375Z",
     "iopub.status.idle": "2023-10-12T15:29:13.247468Z",
     "shell.execute_reply": "2023-10-12T15:29:13.246235Z"
    },
    "papermill": {
     "duration": 0.016716,
     "end_time": "2023-10-12T15:29:13.249757",
     "exception": false,
     "start_time": "2023-10-12T15:29:13.233041",
     "status": "completed"
    },
    "tags": []
   },
   "outputs": [
    {
     "name": "stdout",
     "output_type": "stream",
     "text": [
      "Number of Rows: 284807\n",
      "Number of Columns: 31\n"
     ]
    }
   ],
   "source": [
    "rows, columns = credit_card.shape\n",
    "print(f\"Number of Rows: {rows}\")\n",
    "print(f\"Number of Columns: {columns}\")"
   ]
  },
  {
   "cell_type": "code",
   "execution_count": 4,
   "id": "d99fb3b2",
   "metadata": {
    "execution": {
     "iopub.execute_input": "2023-10-12T15:29:13.267820Z",
     "iopub.status.busy": "2023-10-12T15:29:13.267396Z",
     "iopub.status.idle": "2023-10-12T15:29:13.307838Z",
     "shell.execute_reply": "2023-10-12T15:29:13.306910Z"
    },
    "papermill": {
     "duration": 0.051514,
     "end_time": "2023-10-12T15:29:13.309679",
     "exception": false,
     "start_time": "2023-10-12T15:29:13.258165",
     "status": "completed"
    },
    "tags": []
   },
   "outputs": [
    {
     "data": {
      "text/html": [
       "<div>\n",
       "<style scoped>\n",
       "    .dataframe tbody tr th:only-of-type {\n",
       "        vertical-align: middle;\n",
       "    }\n",
       "\n",
       "    .dataframe tbody tr th {\n",
       "        vertical-align: top;\n",
       "    }\n",
       "\n",
       "    .dataframe thead th {\n",
       "        text-align: right;\n",
       "    }\n",
       "</style>\n",
       "<table border=\"1\" class=\"dataframe\">\n",
       "  <thead>\n",
       "    <tr style=\"text-align: right;\">\n",
       "      <th></th>\n",
       "      <th>Time</th>\n",
       "      <th>V1</th>\n",
       "      <th>V2</th>\n",
       "      <th>V3</th>\n",
       "      <th>V4</th>\n",
       "      <th>V5</th>\n",
       "      <th>V6</th>\n",
       "      <th>V7</th>\n",
       "      <th>V8</th>\n",
       "      <th>V9</th>\n",
       "      <th>...</th>\n",
       "      <th>V21</th>\n",
       "      <th>V22</th>\n",
       "      <th>V23</th>\n",
       "      <th>V24</th>\n",
       "      <th>V25</th>\n",
       "      <th>V26</th>\n",
       "      <th>V27</th>\n",
       "      <th>V28</th>\n",
       "      <th>Amount</th>\n",
       "      <th>Class</th>\n",
       "    </tr>\n",
       "  </thead>\n",
       "  <tbody>\n",
       "    <tr>\n",
       "      <th>0</th>\n",
       "      <td>0.0</td>\n",
       "      <td>-1.359807</td>\n",
       "      <td>-0.072781</td>\n",
       "      <td>2.536347</td>\n",
       "      <td>1.378155</td>\n",
       "      <td>-0.338321</td>\n",
       "      <td>0.462388</td>\n",
       "      <td>0.239599</td>\n",
       "      <td>0.098698</td>\n",
       "      <td>0.363787</td>\n",
       "      <td>...</td>\n",
       "      <td>-0.018307</td>\n",
       "      <td>0.277838</td>\n",
       "      <td>-0.110474</td>\n",
       "      <td>0.066928</td>\n",
       "      <td>0.128539</td>\n",
       "      <td>-0.189115</td>\n",
       "      <td>0.133558</td>\n",
       "      <td>-0.021053</td>\n",
       "      <td>149.62</td>\n",
       "      <td>0</td>\n",
       "    </tr>\n",
       "    <tr>\n",
       "      <th>1</th>\n",
       "      <td>0.0</td>\n",
       "      <td>1.191857</td>\n",
       "      <td>0.266151</td>\n",
       "      <td>0.166480</td>\n",
       "      <td>0.448154</td>\n",
       "      <td>0.060018</td>\n",
       "      <td>-0.082361</td>\n",
       "      <td>-0.078803</td>\n",
       "      <td>0.085102</td>\n",
       "      <td>-0.255425</td>\n",
       "      <td>...</td>\n",
       "      <td>-0.225775</td>\n",
       "      <td>-0.638672</td>\n",
       "      <td>0.101288</td>\n",
       "      <td>-0.339846</td>\n",
       "      <td>0.167170</td>\n",
       "      <td>0.125895</td>\n",
       "      <td>-0.008983</td>\n",
       "      <td>0.014724</td>\n",
       "      <td>2.69</td>\n",
       "      <td>0</td>\n",
       "    </tr>\n",
       "    <tr>\n",
       "      <th>2</th>\n",
       "      <td>1.0</td>\n",
       "      <td>-1.358354</td>\n",
       "      <td>-1.340163</td>\n",
       "      <td>1.773209</td>\n",
       "      <td>0.379780</td>\n",
       "      <td>-0.503198</td>\n",
       "      <td>1.800499</td>\n",
       "      <td>0.791461</td>\n",
       "      <td>0.247676</td>\n",
       "      <td>-1.514654</td>\n",
       "      <td>...</td>\n",
       "      <td>0.247998</td>\n",
       "      <td>0.771679</td>\n",
       "      <td>0.909412</td>\n",
       "      <td>-0.689281</td>\n",
       "      <td>-0.327642</td>\n",
       "      <td>-0.139097</td>\n",
       "      <td>-0.055353</td>\n",
       "      <td>-0.059752</td>\n",
       "      <td>378.66</td>\n",
       "      <td>0</td>\n",
       "    </tr>\n",
       "    <tr>\n",
       "      <th>3</th>\n",
       "      <td>1.0</td>\n",
       "      <td>-0.966272</td>\n",
       "      <td>-0.185226</td>\n",
       "      <td>1.792993</td>\n",
       "      <td>-0.863291</td>\n",
       "      <td>-0.010309</td>\n",
       "      <td>1.247203</td>\n",
       "      <td>0.237609</td>\n",
       "      <td>0.377436</td>\n",
       "      <td>-1.387024</td>\n",
       "      <td>...</td>\n",
       "      <td>-0.108300</td>\n",
       "      <td>0.005274</td>\n",
       "      <td>-0.190321</td>\n",
       "      <td>-1.175575</td>\n",
       "      <td>0.647376</td>\n",
       "      <td>-0.221929</td>\n",
       "      <td>0.062723</td>\n",
       "      <td>0.061458</td>\n",
       "      <td>123.50</td>\n",
       "      <td>0</td>\n",
       "    </tr>\n",
       "    <tr>\n",
       "      <th>4</th>\n",
       "      <td>2.0</td>\n",
       "      <td>-1.158233</td>\n",
       "      <td>0.877737</td>\n",
       "      <td>1.548718</td>\n",
       "      <td>0.403034</td>\n",
       "      <td>-0.407193</td>\n",
       "      <td>0.095921</td>\n",
       "      <td>0.592941</td>\n",
       "      <td>-0.270533</td>\n",
       "      <td>0.817739</td>\n",
       "      <td>...</td>\n",
       "      <td>-0.009431</td>\n",
       "      <td>0.798278</td>\n",
       "      <td>-0.137458</td>\n",
       "      <td>0.141267</td>\n",
       "      <td>-0.206010</td>\n",
       "      <td>0.502292</td>\n",
       "      <td>0.219422</td>\n",
       "      <td>0.215153</td>\n",
       "      <td>69.99</td>\n",
       "      <td>0</td>\n",
       "    </tr>\n",
       "  </tbody>\n",
       "</table>\n",
       "<p>5 rows × 31 columns</p>\n",
       "</div>"
      ],
      "text/plain": [
       "   Time        V1        V2        V3        V4        V5        V6        V7  \\\n",
       "0   0.0 -1.359807 -0.072781  2.536347  1.378155 -0.338321  0.462388  0.239599   \n",
       "1   0.0  1.191857  0.266151  0.166480  0.448154  0.060018 -0.082361 -0.078803   \n",
       "2   1.0 -1.358354 -1.340163  1.773209  0.379780 -0.503198  1.800499  0.791461   \n",
       "3   1.0 -0.966272 -0.185226  1.792993 -0.863291 -0.010309  1.247203  0.237609   \n",
       "4   2.0 -1.158233  0.877737  1.548718  0.403034 -0.407193  0.095921  0.592941   \n",
       "\n",
       "         V8        V9  ...       V21       V22       V23       V24       V25  \\\n",
       "0  0.098698  0.363787  ... -0.018307  0.277838 -0.110474  0.066928  0.128539   \n",
       "1  0.085102 -0.255425  ... -0.225775 -0.638672  0.101288 -0.339846  0.167170   \n",
       "2  0.247676 -1.514654  ...  0.247998  0.771679  0.909412 -0.689281 -0.327642   \n",
       "3  0.377436 -1.387024  ... -0.108300  0.005274 -0.190321 -1.175575  0.647376   \n",
       "4 -0.270533  0.817739  ... -0.009431  0.798278 -0.137458  0.141267 -0.206010   \n",
       "\n",
       "        V26       V27       V28  Amount  Class  \n",
       "0 -0.189115  0.133558 -0.021053  149.62      0  \n",
       "1  0.125895 -0.008983  0.014724    2.69      0  \n",
       "2 -0.139097 -0.055353 -0.059752  378.66      0  \n",
       "3 -0.221929  0.062723  0.061458  123.50      0  \n",
       "4  0.502292  0.219422  0.215153   69.99      0  \n",
       "\n",
       "[5 rows x 31 columns]"
      ]
     },
     "execution_count": 4,
     "metadata": {},
     "output_type": "execute_result"
    }
   ],
   "source": [
    "credit_card.head()"
   ]
  },
  {
   "cell_type": "code",
   "execution_count": 5,
   "id": "c9050658",
   "metadata": {
    "execution": {
     "iopub.execute_input": "2023-10-12T15:29:13.328573Z",
     "iopub.status.busy": "2023-10-12T15:29:13.328205Z",
     "iopub.status.idle": "2023-10-12T15:29:13.349208Z",
     "shell.execute_reply": "2023-10-12T15:29:13.347459Z"
    },
    "papermill": {
     "duration": 0.032146,
     "end_time": "2023-10-12T15:29:13.351704",
     "exception": false,
     "start_time": "2023-10-12T15:29:13.319558",
     "status": "completed"
    },
    "tags": []
   },
   "outputs": [
    {
     "data": {
      "text/html": [
       "<div>\n",
       "<style scoped>\n",
       "    .dataframe tbody tr th:only-of-type {\n",
       "        vertical-align: middle;\n",
       "    }\n",
       "\n",
       "    .dataframe tbody tr th {\n",
       "        vertical-align: top;\n",
       "    }\n",
       "\n",
       "    .dataframe thead th {\n",
       "        text-align: right;\n",
       "    }\n",
       "</style>\n",
       "<table border=\"1\" class=\"dataframe\">\n",
       "  <thead>\n",
       "    <tr style=\"text-align: right;\">\n",
       "      <th></th>\n",
       "      <th>Time</th>\n",
       "      <th>V1</th>\n",
       "      <th>V2</th>\n",
       "      <th>V3</th>\n",
       "      <th>V4</th>\n",
       "      <th>V5</th>\n",
       "      <th>V6</th>\n",
       "      <th>V7</th>\n",
       "      <th>V8</th>\n",
       "      <th>V9</th>\n",
       "      <th>...</th>\n",
       "      <th>V21</th>\n",
       "      <th>V22</th>\n",
       "      <th>V23</th>\n",
       "      <th>V24</th>\n",
       "      <th>V25</th>\n",
       "      <th>V26</th>\n",
       "      <th>V27</th>\n",
       "      <th>V28</th>\n",
       "      <th>Amount</th>\n",
       "      <th>Class</th>\n",
       "    </tr>\n",
       "  </thead>\n",
       "  <tbody>\n",
       "    <tr>\n",
       "      <th>284802</th>\n",
       "      <td>172786.0</td>\n",
       "      <td>-11.881118</td>\n",
       "      <td>10.071785</td>\n",
       "      <td>-9.834783</td>\n",
       "      <td>-2.066656</td>\n",
       "      <td>-5.364473</td>\n",
       "      <td>-2.606837</td>\n",
       "      <td>-4.918215</td>\n",
       "      <td>7.305334</td>\n",
       "      <td>1.914428</td>\n",
       "      <td>...</td>\n",
       "      <td>0.213454</td>\n",
       "      <td>0.111864</td>\n",
       "      <td>1.014480</td>\n",
       "      <td>-0.509348</td>\n",
       "      <td>1.436807</td>\n",
       "      <td>0.250034</td>\n",
       "      <td>0.943651</td>\n",
       "      <td>0.823731</td>\n",
       "      <td>0.77</td>\n",
       "      <td>0</td>\n",
       "    </tr>\n",
       "    <tr>\n",
       "      <th>284803</th>\n",
       "      <td>172787.0</td>\n",
       "      <td>-0.732789</td>\n",
       "      <td>-0.055080</td>\n",
       "      <td>2.035030</td>\n",
       "      <td>-0.738589</td>\n",
       "      <td>0.868229</td>\n",
       "      <td>1.058415</td>\n",
       "      <td>0.024330</td>\n",
       "      <td>0.294869</td>\n",
       "      <td>0.584800</td>\n",
       "      <td>...</td>\n",
       "      <td>0.214205</td>\n",
       "      <td>0.924384</td>\n",
       "      <td>0.012463</td>\n",
       "      <td>-1.016226</td>\n",
       "      <td>-0.606624</td>\n",
       "      <td>-0.395255</td>\n",
       "      <td>0.068472</td>\n",
       "      <td>-0.053527</td>\n",
       "      <td>24.79</td>\n",
       "      <td>0</td>\n",
       "    </tr>\n",
       "    <tr>\n",
       "      <th>284804</th>\n",
       "      <td>172788.0</td>\n",
       "      <td>1.919565</td>\n",
       "      <td>-0.301254</td>\n",
       "      <td>-3.249640</td>\n",
       "      <td>-0.557828</td>\n",
       "      <td>2.630515</td>\n",
       "      <td>3.031260</td>\n",
       "      <td>-0.296827</td>\n",
       "      <td>0.708417</td>\n",
       "      <td>0.432454</td>\n",
       "      <td>...</td>\n",
       "      <td>0.232045</td>\n",
       "      <td>0.578229</td>\n",
       "      <td>-0.037501</td>\n",
       "      <td>0.640134</td>\n",
       "      <td>0.265745</td>\n",
       "      <td>-0.087371</td>\n",
       "      <td>0.004455</td>\n",
       "      <td>-0.026561</td>\n",
       "      <td>67.88</td>\n",
       "      <td>0</td>\n",
       "    </tr>\n",
       "    <tr>\n",
       "      <th>284805</th>\n",
       "      <td>172788.0</td>\n",
       "      <td>-0.240440</td>\n",
       "      <td>0.530483</td>\n",
       "      <td>0.702510</td>\n",
       "      <td>0.689799</td>\n",
       "      <td>-0.377961</td>\n",
       "      <td>0.623708</td>\n",
       "      <td>-0.686180</td>\n",
       "      <td>0.679145</td>\n",
       "      <td>0.392087</td>\n",
       "      <td>...</td>\n",
       "      <td>0.265245</td>\n",
       "      <td>0.800049</td>\n",
       "      <td>-0.163298</td>\n",
       "      <td>0.123205</td>\n",
       "      <td>-0.569159</td>\n",
       "      <td>0.546668</td>\n",
       "      <td>0.108821</td>\n",
       "      <td>0.104533</td>\n",
       "      <td>10.00</td>\n",
       "      <td>0</td>\n",
       "    </tr>\n",
       "    <tr>\n",
       "      <th>284806</th>\n",
       "      <td>172792.0</td>\n",
       "      <td>-0.533413</td>\n",
       "      <td>-0.189733</td>\n",
       "      <td>0.703337</td>\n",
       "      <td>-0.506271</td>\n",
       "      <td>-0.012546</td>\n",
       "      <td>-0.649617</td>\n",
       "      <td>1.577006</td>\n",
       "      <td>-0.414650</td>\n",
       "      <td>0.486180</td>\n",
       "      <td>...</td>\n",
       "      <td>0.261057</td>\n",
       "      <td>0.643078</td>\n",
       "      <td>0.376777</td>\n",
       "      <td>0.008797</td>\n",
       "      <td>-0.473649</td>\n",
       "      <td>-0.818267</td>\n",
       "      <td>-0.002415</td>\n",
       "      <td>0.013649</td>\n",
       "      <td>217.00</td>\n",
       "      <td>0</td>\n",
       "    </tr>\n",
       "  </tbody>\n",
       "</table>\n",
       "<p>5 rows × 31 columns</p>\n",
       "</div>"
      ],
      "text/plain": [
       "            Time         V1         V2        V3        V4        V5  \\\n",
       "284802  172786.0 -11.881118  10.071785 -9.834783 -2.066656 -5.364473   \n",
       "284803  172787.0  -0.732789  -0.055080  2.035030 -0.738589  0.868229   \n",
       "284804  172788.0   1.919565  -0.301254 -3.249640 -0.557828  2.630515   \n",
       "284805  172788.0  -0.240440   0.530483  0.702510  0.689799 -0.377961   \n",
       "284806  172792.0  -0.533413  -0.189733  0.703337 -0.506271 -0.012546   \n",
       "\n",
       "              V6        V7        V8        V9  ...       V21       V22  \\\n",
       "284802 -2.606837 -4.918215  7.305334  1.914428  ...  0.213454  0.111864   \n",
       "284803  1.058415  0.024330  0.294869  0.584800  ...  0.214205  0.924384   \n",
       "284804  3.031260 -0.296827  0.708417  0.432454  ...  0.232045  0.578229   \n",
       "284805  0.623708 -0.686180  0.679145  0.392087  ...  0.265245  0.800049   \n",
       "284806 -0.649617  1.577006 -0.414650  0.486180  ...  0.261057  0.643078   \n",
       "\n",
       "             V23       V24       V25       V26       V27       V28  Amount  \\\n",
       "284802  1.014480 -0.509348  1.436807  0.250034  0.943651  0.823731    0.77   \n",
       "284803  0.012463 -1.016226 -0.606624 -0.395255  0.068472 -0.053527   24.79   \n",
       "284804 -0.037501  0.640134  0.265745 -0.087371  0.004455 -0.026561   67.88   \n",
       "284805 -0.163298  0.123205 -0.569159  0.546668  0.108821  0.104533   10.00   \n",
       "284806  0.376777  0.008797 -0.473649 -0.818267 -0.002415  0.013649  217.00   \n",
       "\n",
       "        Class  \n",
       "284802      0  \n",
       "284803      0  \n",
       "284804      0  \n",
       "284805      0  \n",
       "284806      0  \n",
       "\n",
       "[5 rows x 31 columns]"
      ]
     },
     "execution_count": 5,
     "metadata": {},
     "output_type": "execute_result"
    }
   ],
   "source": [
    "credit_card.tail()"
   ]
  },
  {
   "cell_type": "code",
   "execution_count": 6,
   "id": "60f3b6fe",
   "metadata": {
    "execution": {
     "iopub.execute_input": "2023-10-12T15:29:13.370833Z",
     "iopub.status.busy": "2023-10-12T15:29:13.370394Z",
     "iopub.status.idle": "2023-10-12T15:29:13.416911Z",
     "shell.execute_reply": "2023-10-12T15:29:13.415606Z"
    },
    "papermill": {
     "duration": 0.058827,
     "end_time": "2023-10-12T15:29:13.418851",
     "exception": false,
     "start_time": "2023-10-12T15:29:13.360024",
     "status": "completed"
    },
    "tags": []
   },
   "outputs": [
    {
     "name": "stdout",
     "output_type": "stream",
     "text": [
      "<class 'pandas.core.frame.DataFrame'>\n",
      "RangeIndex: 284807 entries, 0 to 284806\n",
      "Data columns (total 31 columns):\n",
      " #   Column  Non-Null Count   Dtype  \n",
      "---  ------  --------------   -----  \n",
      " 0   Time    284807 non-null  float64\n",
      " 1   V1      284807 non-null  float64\n",
      " 2   V2      284807 non-null  float64\n",
      " 3   V3      284807 non-null  float64\n",
      " 4   V4      284807 non-null  float64\n",
      " 5   V5      284807 non-null  float64\n",
      " 6   V6      284807 non-null  float64\n",
      " 7   V7      284807 non-null  float64\n",
      " 8   V8      284807 non-null  float64\n",
      " 9   V9      284807 non-null  float64\n",
      " 10  V10     284807 non-null  float64\n",
      " 11  V11     284807 non-null  float64\n",
      " 12  V12     284807 non-null  float64\n",
      " 13  V13     284807 non-null  float64\n",
      " 14  V14     284807 non-null  float64\n",
      " 15  V15     284807 non-null  float64\n",
      " 16  V16     284807 non-null  float64\n",
      " 17  V17     284807 non-null  float64\n",
      " 18  V18     284807 non-null  float64\n",
      " 19  V19     284807 non-null  float64\n",
      " 20  V20     284807 non-null  float64\n",
      " 21  V21     284807 non-null  float64\n",
      " 22  V22     284807 non-null  float64\n",
      " 23  V23     284807 non-null  float64\n",
      " 24  V24     284807 non-null  float64\n",
      " 25  V25     284807 non-null  float64\n",
      " 26  V26     284807 non-null  float64\n",
      " 27  V27     284807 non-null  float64\n",
      " 28  V28     284807 non-null  float64\n",
      " 29  Amount  284807 non-null  float64\n",
      " 30  Class   284807 non-null  int64  \n",
      "dtypes: float64(30), int64(1)\n",
      "memory usage: 67.4 MB\n"
     ]
    }
   ],
   "source": [
    "credit_card.info()"
   ]
  },
  {
   "cell_type": "code",
   "execution_count": 7,
   "id": "08866ca1",
   "metadata": {
    "execution": {
     "iopub.execute_input": "2023-10-12T15:29:13.438700Z",
     "iopub.status.busy": "2023-10-12T15:29:13.438027Z",
     "iopub.status.idle": "2023-10-12T15:29:13.476932Z",
     "shell.execute_reply": "2023-10-12T15:29:13.475235Z"
    },
    "papermill": {
     "duration": 0.052333,
     "end_time": "2023-10-12T15:29:13.479603",
     "exception": false,
     "start_time": "2023-10-12T15:29:13.427270",
     "status": "completed"
    },
    "tags": []
   },
   "outputs": [
    {
     "data": {
      "text/html": [
       "<div>\n",
       "<style scoped>\n",
       "    .dataframe tbody tr th:only-of-type {\n",
       "        vertical-align: middle;\n",
       "    }\n",
       "\n",
       "    .dataframe tbody tr th {\n",
       "        vertical-align: top;\n",
       "    }\n",
       "\n",
       "    .dataframe thead th {\n",
       "        text-align: right;\n",
       "    }\n",
       "</style>\n",
       "<table border=\"1\" class=\"dataframe\">\n",
       "  <thead>\n",
       "    <tr style=\"text-align: right;\">\n",
       "      <th></th>\n",
       "      <th>Time</th>\n",
       "      <th>V1</th>\n",
       "      <th>V2</th>\n",
       "      <th>V3</th>\n",
       "      <th>V4</th>\n",
       "      <th>V5</th>\n",
       "      <th>V6</th>\n",
       "      <th>V7</th>\n",
       "      <th>V8</th>\n",
       "      <th>V9</th>\n",
       "      <th>...</th>\n",
       "      <th>V21</th>\n",
       "      <th>V22</th>\n",
       "      <th>V23</th>\n",
       "      <th>V24</th>\n",
       "      <th>V25</th>\n",
       "      <th>V26</th>\n",
       "      <th>V27</th>\n",
       "      <th>V28</th>\n",
       "      <th>Amount</th>\n",
       "      <th>Class</th>\n",
       "    </tr>\n",
       "  </thead>\n",
       "  <tbody>\n",
       "    <tr>\n",
       "      <th>0</th>\n",
       "      <td>False</td>\n",
       "      <td>False</td>\n",
       "      <td>False</td>\n",
       "      <td>False</td>\n",
       "      <td>False</td>\n",
       "      <td>False</td>\n",
       "      <td>False</td>\n",
       "      <td>False</td>\n",
       "      <td>False</td>\n",
       "      <td>False</td>\n",
       "      <td>...</td>\n",
       "      <td>False</td>\n",
       "      <td>False</td>\n",
       "      <td>False</td>\n",
       "      <td>False</td>\n",
       "      <td>False</td>\n",
       "      <td>False</td>\n",
       "      <td>False</td>\n",
       "      <td>False</td>\n",
       "      <td>False</td>\n",
       "      <td>False</td>\n",
       "    </tr>\n",
       "    <tr>\n",
       "      <th>1</th>\n",
       "      <td>False</td>\n",
       "      <td>False</td>\n",
       "      <td>False</td>\n",
       "      <td>False</td>\n",
       "      <td>False</td>\n",
       "      <td>False</td>\n",
       "      <td>False</td>\n",
       "      <td>False</td>\n",
       "      <td>False</td>\n",
       "      <td>False</td>\n",
       "      <td>...</td>\n",
       "      <td>False</td>\n",
       "      <td>False</td>\n",
       "      <td>False</td>\n",
       "      <td>False</td>\n",
       "      <td>False</td>\n",
       "      <td>False</td>\n",
       "      <td>False</td>\n",
       "      <td>False</td>\n",
       "      <td>False</td>\n",
       "      <td>False</td>\n",
       "    </tr>\n",
       "    <tr>\n",
       "      <th>2</th>\n",
       "      <td>False</td>\n",
       "      <td>False</td>\n",
       "      <td>False</td>\n",
       "      <td>False</td>\n",
       "      <td>False</td>\n",
       "      <td>False</td>\n",
       "      <td>False</td>\n",
       "      <td>False</td>\n",
       "      <td>False</td>\n",
       "      <td>False</td>\n",
       "      <td>...</td>\n",
       "      <td>False</td>\n",
       "      <td>False</td>\n",
       "      <td>False</td>\n",
       "      <td>False</td>\n",
       "      <td>False</td>\n",
       "      <td>False</td>\n",
       "      <td>False</td>\n",
       "      <td>False</td>\n",
       "      <td>False</td>\n",
       "      <td>False</td>\n",
       "    </tr>\n",
       "    <tr>\n",
       "      <th>3</th>\n",
       "      <td>False</td>\n",
       "      <td>False</td>\n",
       "      <td>False</td>\n",
       "      <td>False</td>\n",
       "      <td>False</td>\n",
       "      <td>False</td>\n",
       "      <td>False</td>\n",
       "      <td>False</td>\n",
       "      <td>False</td>\n",
       "      <td>False</td>\n",
       "      <td>...</td>\n",
       "      <td>False</td>\n",
       "      <td>False</td>\n",
       "      <td>False</td>\n",
       "      <td>False</td>\n",
       "      <td>False</td>\n",
       "      <td>False</td>\n",
       "      <td>False</td>\n",
       "      <td>False</td>\n",
       "      <td>False</td>\n",
       "      <td>False</td>\n",
       "    </tr>\n",
       "    <tr>\n",
       "      <th>4</th>\n",
       "      <td>False</td>\n",
       "      <td>False</td>\n",
       "      <td>False</td>\n",
       "      <td>False</td>\n",
       "      <td>False</td>\n",
       "      <td>False</td>\n",
       "      <td>False</td>\n",
       "      <td>False</td>\n",
       "      <td>False</td>\n",
       "      <td>False</td>\n",
       "      <td>...</td>\n",
       "      <td>False</td>\n",
       "      <td>False</td>\n",
       "      <td>False</td>\n",
       "      <td>False</td>\n",
       "      <td>False</td>\n",
       "      <td>False</td>\n",
       "      <td>False</td>\n",
       "      <td>False</td>\n",
       "      <td>False</td>\n",
       "      <td>False</td>\n",
       "    </tr>\n",
       "    <tr>\n",
       "      <th>...</th>\n",
       "      <td>...</td>\n",
       "      <td>...</td>\n",
       "      <td>...</td>\n",
       "      <td>...</td>\n",
       "      <td>...</td>\n",
       "      <td>...</td>\n",
       "      <td>...</td>\n",
       "      <td>...</td>\n",
       "      <td>...</td>\n",
       "      <td>...</td>\n",
       "      <td>...</td>\n",
       "      <td>...</td>\n",
       "      <td>...</td>\n",
       "      <td>...</td>\n",
       "      <td>...</td>\n",
       "      <td>...</td>\n",
       "      <td>...</td>\n",
       "      <td>...</td>\n",
       "      <td>...</td>\n",
       "      <td>...</td>\n",
       "      <td>...</td>\n",
       "    </tr>\n",
       "    <tr>\n",
       "      <th>284802</th>\n",
       "      <td>False</td>\n",
       "      <td>False</td>\n",
       "      <td>False</td>\n",
       "      <td>False</td>\n",
       "      <td>False</td>\n",
       "      <td>False</td>\n",
       "      <td>False</td>\n",
       "      <td>False</td>\n",
       "      <td>False</td>\n",
       "      <td>False</td>\n",
       "      <td>...</td>\n",
       "      <td>False</td>\n",
       "      <td>False</td>\n",
       "      <td>False</td>\n",
       "      <td>False</td>\n",
       "      <td>False</td>\n",
       "      <td>False</td>\n",
       "      <td>False</td>\n",
       "      <td>False</td>\n",
       "      <td>False</td>\n",
       "      <td>False</td>\n",
       "    </tr>\n",
       "    <tr>\n",
       "      <th>284803</th>\n",
       "      <td>False</td>\n",
       "      <td>False</td>\n",
       "      <td>False</td>\n",
       "      <td>False</td>\n",
       "      <td>False</td>\n",
       "      <td>False</td>\n",
       "      <td>False</td>\n",
       "      <td>False</td>\n",
       "      <td>False</td>\n",
       "      <td>False</td>\n",
       "      <td>...</td>\n",
       "      <td>False</td>\n",
       "      <td>False</td>\n",
       "      <td>False</td>\n",
       "      <td>False</td>\n",
       "      <td>False</td>\n",
       "      <td>False</td>\n",
       "      <td>False</td>\n",
       "      <td>False</td>\n",
       "      <td>False</td>\n",
       "      <td>False</td>\n",
       "    </tr>\n",
       "    <tr>\n",
       "      <th>284804</th>\n",
       "      <td>False</td>\n",
       "      <td>False</td>\n",
       "      <td>False</td>\n",
       "      <td>False</td>\n",
       "      <td>False</td>\n",
       "      <td>False</td>\n",
       "      <td>False</td>\n",
       "      <td>False</td>\n",
       "      <td>False</td>\n",
       "      <td>False</td>\n",
       "      <td>...</td>\n",
       "      <td>False</td>\n",
       "      <td>False</td>\n",
       "      <td>False</td>\n",
       "      <td>False</td>\n",
       "      <td>False</td>\n",
       "      <td>False</td>\n",
       "      <td>False</td>\n",
       "      <td>False</td>\n",
       "      <td>False</td>\n",
       "      <td>False</td>\n",
       "    </tr>\n",
       "    <tr>\n",
       "      <th>284805</th>\n",
       "      <td>False</td>\n",
       "      <td>False</td>\n",
       "      <td>False</td>\n",
       "      <td>False</td>\n",
       "      <td>False</td>\n",
       "      <td>False</td>\n",
       "      <td>False</td>\n",
       "      <td>False</td>\n",
       "      <td>False</td>\n",
       "      <td>False</td>\n",
       "      <td>...</td>\n",
       "      <td>False</td>\n",
       "      <td>False</td>\n",
       "      <td>False</td>\n",
       "      <td>False</td>\n",
       "      <td>False</td>\n",
       "      <td>False</td>\n",
       "      <td>False</td>\n",
       "      <td>False</td>\n",
       "      <td>False</td>\n",
       "      <td>False</td>\n",
       "    </tr>\n",
       "    <tr>\n",
       "      <th>284806</th>\n",
       "      <td>False</td>\n",
       "      <td>False</td>\n",
       "      <td>False</td>\n",
       "      <td>False</td>\n",
       "      <td>False</td>\n",
       "      <td>False</td>\n",
       "      <td>False</td>\n",
       "      <td>False</td>\n",
       "      <td>False</td>\n",
       "      <td>False</td>\n",
       "      <td>...</td>\n",
       "      <td>False</td>\n",
       "      <td>False</td>\n",
       "      <td>False</td>\n",
       "      <td>False</td>\n",
       "      <td>False</td>\n",
       "      <td>False</td>\n",
       "      <td>False</td>\n",
       "      <td>False</td>\n",
       "      <td>False</td>\n",
       "      <td>False</td>\n",
       "    </tr>\n",
       "  </tbody>\n",
       "</table>\n",
       "<p>284807 rows × 31 columns</p>\n",
       "</div>"
      ],
      "text/plain": [
       "         Time     V1     V2     V3     V4     V5     V6     V7     V8     V9  \\\n",
       "0       False  False  False  False  False  False  False  False  False  False   \n",
       "1       False  False  False  False  False  False  False  False  False  False   \n",
       "2       False  False  False  False  False  False  False  False  False  False   \n",
       "3       False  False  False  False  False  False  False  False  False  False   \n",
       "4       False  False  False  False  False  False  False  False  False  False   \n",
       "...       ...    ...    ...    ...    ...    ...    ...    ...    ...    ...   \n",
       "284802  False  False  False  False  False  False  False  False  False  False   \n",
       "284803  False  False  False  False  False  False  False  False  False  False   \n",
       "284804  False  False  False  False  False  False  False  False  False  False   \n",
       "284805  False  False  False  False  False  False  False  False  False  False   \n",
       "284806  False  False  False  False  False  False  False  False  False  False   \n",
       "\n",
       "        ...    V21    V22    V23    V24    V25    V26    V27    V28  Amount  \\\n",
       "0       ...  False  False  False  False  False  False  False  False   False   \n",
       "1       ...  False  False  False  False  False  False  False  False   False   \n",
       "2       ...  False  False  False  False  False  False  False  False   False   \n",
       "3       ...  False  False  False  False  False  False  False  False   False   \n",
       "4       ...  False  False  False  False  False  False  False  False   False   \n",
       "...     ...    ...    ...    ...    ...    ...    ...    ...    ...     ...   \n",
       "284802  ...  False  False  False  False  False  False  False  False   False   \n",
       "284803  ...  False  False  False  False  False  False  False  False   False   \n",
       "284804  ...  False  False  False  False  False  False  False  False   False   \n",
       "284805  ...  False  False  False  False  False  False  False  False   False   \n",
       "284806  ...  False  False  False  False  False  False  False  False   False   \n",
       "\n",
       "        Class  \n",
       "0       False  \n",
       "1       False  \n",
       "2       False  \n",
       "3       False  \n",
       "4       False  \n",
       "...       ...  \n",
       "284802  False  \n",
       "284803  False  \n",
       "284804  False  \n",
       "284805  False  \n",
       "284806  False  \n",
       "\n",
       "[284807 rows x 31 columns]"
      ]
     },
     "execution_count": 7,
     "metadata": {},
     "output_type": "execute_result"
    }
   ],
   "source": [
    "credit_card.isnull()"
   ]
  },
  {
   "cell_type": "code",
   "execution_count": 8,
   "id": "fd657c3c",
   "metadata": {
    "execution": {
     "iopub.execute_input": "2023-10-12T15:29:13.499306Z",
     "iopub.status.busy": "2023-10-12T15:29:13.498994Z",
     "iopub.status.idle": "2023-10-12T15:29:14.500526Z",
     "shell.execute_reply": "2023-10-12T15:29:14.499599Z"
    },
    "papermill": {
     "duration": 1.014638,
     "end_time": "2023-10-12T15:29:14.503198",
     "exception": false,
     "start_time": "2023-10-12T15:29:13.488560",
     "status": "completed"
    },
    "tags": []
   },
   "outputs": [
    {
     "data": {
      "text/plain": [
       "0         False\n",
       "1         False\n",
       "2         False\n",
       "3         False\n",
       "4         False\n",
       "          ...  \n",
       "284802    False\n",
       "284803    False\n",
       "284804    False\n",
       "284805    False\n",
       "284806    False\n",
       "Length: 284807, dtype: bool"
      ]
     },
     "execution_count": 8,
     "metadata": {},
     "output_type": "execute_result"
    }
   ],
   "source": [
    "credit_card.duplicated()"
   ]
  },
  {
   "cell_type": "code",
   "execution_count": 9,
   "id": "2377094f",
   "metadata": {
    "execution": {
     "iopub.execute_input": "2023-10-12T15:29:14.595814Z",
     "iopub.status.busy": "2023-10-12T15:29:14.595400Z",
     "iopub.status.idle": "2023-10-12T15:29:15.483094Z",
     "shell.execute_reply": "2023-10-12T15:29:15.481816Z"
    },
    "papermill": {
     "duration": 0.901794,
     "end_time": "2023-10-12T15:29:15.485104",
     "exception": false,
     "start_time": "2023-10-12T15:29:14.583310",
     "status": "completed"
    },
    "tags": []
   },
   "outputs": [
    {
     "data": {
      "text/plain": [
       "True"
      ]
     },
     "execution_count": 9,
     "metadata": {},
     "output_type": "execute_result"
    }
   ],
   "source": [
    "credit_card.duplicated().any()"
   ]
  },
  {
   "cell_type": "code",
   "execution_count": 10,
   "id": "0fa36fc1",
   "metadata": {
    "execution": {
     "iopub.execute_input": "2023-10-12T15:29:15.505119Z",
     "iopub.status.busy": "2023-10-12T15:29:15.504730Z",
     "iopub.status.idle": "2023-10-12T15:29:15.511766Z",
     "shell.execute_reply": "2023-10-12T15:29:15.510717Z"
    },
    "papermill": {
     "duration": 0.018351,
     "end_time": "2023-10-12T15:29:15.513370",
     "exception": false,
     "start_time": "2023-10-12T15:29:15.495019",
     "status": "completed"
    },
    "tags": []
   },
   "outputs": [
    {
     "data": {
      "text/plain": [
       "(284807, 31)"
      ]
     },
     "execution_count": 10,
     "metadata": {},
     "output_type": "execute_result"
    }
   ],
   "source": [
    "credit_card.shape"
   ]
  },
  {
   "cell_type": "code",
   "execution_count": 11,
   "id": "076f728c",
   "metadata": {
    "execution": {
     "iopub.execute_input": "2023-10-12T15:29:15.532932Z",
     "iopub.status.busy": "2023-10-12T15:29:15.532618Z",
     "iopub.status.idle": "2023-10-12T15:29:16.333364Z",
     "shell.execute_reply": "2023-10-12T15:29:16.331818Z"
    },
    "papermill": {
     "duration": 0.813903,
     "end_time": "2023-10-12T15:29:16.336242",
     "exception": false,
     "start_time": "2023-10-12T15:29:15.522339",
     "status": "completed"
    },
    "tags": []
   },
   "outputs": [],
   "source": [
    "# Remove duplication\n",
    "data= credit_card.drop_duplicates()"
   ]
  },
  {
   "cell_type": "code",
   "execution_count": 12,
   "id": "edc2def4",
   "metadata": {
    "execution": {
     "iopub.execute_input": "2023-10-12T15:29:16.357926Z",
     "iopub.status.busy": "2023-10-12T15:29:16.356128Z",
     "iopub.status.idle": "2023-10-12T15:29:16.363572Z",
     "shell.execute_reply": "2023-10-12T15:29:16.361948Z"
    },
    "papermill": {
     "duration": 0.019467,
     "end_time": "2023-10-12T15:29:16.365345",
     "exception": false,
     "start_time": "2023-10-12T15:29:16.345878",
     "status": "completed"
    },
    "tags": []
   },
   "outputs": [
    {
     "name": "stdout",
     "output_type": "stream",
     "text": [
      "Dublicate Transaction: 1081\n"
     ]
    }
   ],
   "source": [
    "print(f\"Dublicate Transaction:\",284807 - 283726)"
   ]
  },
  {
   "cell_type": "code",
   "execution_count": 13,
   "id": "e1f70b41",
   "metadata": {
    "execution": {
     "iopub.execute_input": "2023-10-12T15:29:16.387940Z",
     "iopub.status.busy": "2023-10-12T15:29:16.386234Z",
     "iopub.status.idle": "2023-10-12T15:29:16.454504Z",
     "shell.execute_reply": "2023-10-12T15:29:16.453440Z"
    },
    "papermill": {
     "duration": 0.082015,
     "end_time": "2023-10-12T15:29:16.457076",
     "exception": false,
     "start_time": "2023-10-12T15:29:16.375061",
     "status": "completed"
    },
    "tags": []
   },
   "outputs": [
    {
     "data": {
      "text/html": [
       "<div>\n",
       "<style scoped>\n",
       "    .dataframe tbody tr th:only-of-type {\n",
       "        vertical-align: middle;\n",
       "    }\n",
       "\n",
       "    .dataframe tbody tr th {\n",
       "        vertical-align: top;\n",
       "    }\n",
       "\n",
       "    .dataframe thead th {\n",
       "        text-align: right;\n",
       "    }\n",
       "</style>\n",
       "<table border=\"1\" class=\"dataframe\">\n",
       "  <thead>\n",
       "    <tr style=\"text-align: right;\">\n",
       "      <th></th>\n",
       "      <th>Time</th>\n",
       "      <th>V1</th>\n",
       "      <th>V2</th>\n",
       "      <th>V3</th>\n",
       "      <th>V4</th>\n",
       "      <th>V5</th>\n",
       "      <th>V6</th>\n",
       "      <th>V7</th>\n",
       "      <th>V8</th>\n",
       "      <th>V9</th>\n",
       "      <th>...</th>\n",
       "      <th>V21</th>\n",
       "      <th>V22</th>\n",
       "      <th>V23</th>\n",
       "      <th>V24</th>\n",
       "      <th>V25</th>\n",
       "      <th>V26</th>\n",
       "      <th>V27</th>\n",
       "      <th>V28</th>\n",
       "      <th>Amount</th>\n",
       "      <th>Class</th>\n",
       "    </tr>\n",
       "  </thead>\n",
       "  <tbody>\n",
       "    <tr>\n",
       "      <th>0</th>\n",
       "      <td>0.0</td>\n",
       "      <td>-1.359807</td>\n",
       "      <td>-0.072781</td>\n",
       "      <td>2.536347</td>\n",
       "      <td>1.378155</td>\n",
       "      <td>-0.338321</td>\n",
       "      <td>0.462388</td>\n",
       "      <td>0.239599</td>\n",
       "      <td>0.098698</td>\n",
       "      <td>0.363787</td>\n",
       "      <td>...</td>\n",
       "      <td>-0.018307</td>\n",
       "      <td>0.277838</td>\n",
       "      <td>-0.110474</td>\n",
       "      <td>0.066928</td>\n",
       "      <td>0.128539</td>\n",
       "      <td>-0.189115</td>\n",
       "      <td>0.133558</td>\n",
       "      <td>-0.021053</td>\n",
       "      <td>149.62</td>\n",
       "      <td>0</td>\n",
       "    </tr>\n",
       "    <tr>\n",
       "      <th>1</th>\n",
       "      <td>0.0</td>\n",
       "      <td>1.191857</td>\n",
       "      <td>0.266151</td>\n",
       "      <td>0.166480</td>\n",
       "      <td>0.448154</td>\n",
       "      <td>0.060018</td>\n",
       "      <td>-0.082361</td>\n",
       "      <td>-0.078803</td>\n",
       "      <td>0.085102</td>\n",
       "      <td>-0.255425</td>\n",
       "      <td>...</td>\n",
       "      <td>-0.225775</td>\n",
       "      <td>-0.638672</td>\n",
       "      <td>0.101288</td>\n",
       "      <td>-0.339846</td>\n",
       "      <td>0.167170</td>\n",
       "      <td>0.125895</td>\n",
       "      <td>-0.008983</td>\n",
       "      <td>0.014724</td>\n",
       "      <td>2.69</td>\n",
       "      <td>0</td>\n",
       "    </tr>\n",
       "    <tr>\n",
       "      <th>2</th>\n",
       "      <td>1.0</td>\n",
       "      <td>-1.358354</td>\n",
       "      <td>-1.340163</td>\n",
       "      <td>1.773209</td>\n",
       "      <td>0.379780</td>\n",
       "      <td>-0.503198</td>\n",
       "      <td>1.800499</td>\n",
       "      <td>0.791461</td>\n",
       "      <td>0.247676</td>\n",
       "      <td>-1.514654</td>\n",
       "      <td>...</td>\n",
       "      <td>0.247998</td>\n",
       "      <td>0.771679</td>\n",
       "      <td>0.909412</td>\n",
       "      <td>-0.689281</td>\n",
       "      <td>-0.327642</td>\n",
       "      <td>-0.139097</td>\n",
       "      <td>-0.055353</td>\n",
       "      <td>-0.059752</td>\n",
       "      <td>378.66</td>\n",
       "      <td>0</td>\n",
       "    </tr>\n",
       "    <tr>\n",
       "      <th>3</th>\n",
       "      <td>1.0</td>\n",
       "      <td>-0.966272</td>\n",
       "      <td>-0.185226</td>\n",
       "      <td>1.792993</td>\n",
       "      <td>-0.863291</td>\n",
       "      <td>-0.010309</td>\n",
       "      <td>1.247203</td>\n",
       "      <td>0.237609</td>\n",
       "      <td>0.377436</td>\n",
       "      <td>-1.387024</td>\n",
       "      <td>...</td>\n",
       "      <td>-0.108300</td>\n",
       "      <td>0.005274</td>\n",
       "      <td>-0.190321</td>\n",
       "      <td>-1.175575</td>\n",
       "      <td>0.647376</td>\n",
       "      <td>-0.221929</td>\n",
       "      <td>0.062723</td>\n",
       "      <td>0.061458</td>\n",
       "      <td>123.50</td>\n",
       "      <td>0</td>\n",
       "    </tr>\n",
       "    <tr>\n",
       "      <th>4</th>\n",
       "      <td>2.0</td>\n",
       "      <td>-1.158233</td>\n",
       "      <td>0.877737</td>\n",
       "      <td>1.548718</td>\n",
       "      <td>0.403034</td>\n",
       "      <td>-0.407193</td>\n",
       "      <td>0.095921</td>\n",
       "      <td>0.592941</td>\n",
       "      <td>-0.270533</td>\n",
       "      <td>0.817739</td>\n",
       "      <td>...</td>\n",
       "      <td>-0.009431</td>\n",
       "      <td>0.798278</td>\n",
       "      <td>-0.137458</td>\n",
       "      <td>0.141267</td>\n",
       "      <td>-0.206010</td>\n",
       "      <td>0.502292</td>\n",
       "      <td>0.219422</td>\n",
       "      <td>0.215153</td>\n",
       "      <td>69.99</td>\n",
       "      <td>0</td>\n",
       "    </tr>\n",
       "    <tr>\n",
       "      <th>...</th>\n",
       "      <td>...</td>\n",
       "      <td>...</td>\n",
       "      <td>...</td>\n",
       "      <td>...</td>\n",
       "      <td>...</td>\n",
       "      <td>...</td>\n",
       "      <td>...</td>\n",
       "      <td>...</td>\n",
       "      <td>...</td>\n",
       "      <td>...</td>\n",
       "      <td>...</td>\n",
       "      <td>...</td>\n",
       "      <td>...</td>\n",
       "      <td>...</td>\n",
       "      <td>...</td>\n",
       "      <td>...</td>\n",
       "      <td>...</td>\n",
       "      <td>...</td>\n",
       "      <td>...</td>\n",
       "      <td>...</td>\n",
       "      <td>...</td>\n",
       "    </tr>\n",
       "    <tr>\n",
       "      <th>284802</th>\n",
       "      <td>172786.0</td>\n",
       "      <td>-11.881118</td>\n",
       "      <td>10.071785</td>\n",
       "      <td>-9.834783</td>\n",
       "      <td>-2.066656</td>\n",
       "      <td>-5.364473</td>\n",
       "      <td>-2.606837</td>\n",
       "      <td>-4.918215</td>\n",
       "      <td>7.305334</td>\n",
       "      <td>1.914428</td>\n",
       "      <td>...</td>\n",
       "      <td>0.213454</td>\n",
       "      <td>0.111864</td>\n",
       "      <td>1.014480</td>\n",
       "      <td>-0.509348</td>\n",
       "      <td>1.436807</td>\n",
       "      <td>0.250034</td>\n",
       "      <td>0.943651</td>\n",
       "      <td>0.823731</td>\n",
       "      <td>0.77</td>\n",
       "      <td>0</td>\n",
       "    </tr>\n",
       "    <tr>\n",
       "      <th>284803</th>\n",
       "      <td>172787.0</td>\n",
       "      <td>-0.732789</td>\n",
       "      <td>-0.055080</td>\n",
       "      <td>2.035030</td>\n",
       "      <td>-0.738589</td>\n",
       "      <td>0.868229</td>\n",
       "      <td>1.058415</td>\n",
       "      <td>0.024330</td>\n",
       "      <td>0.294869</td>\n",
       "      <td>0.584800</td>\n",
       "      <td>...</td>\n",
       "      <td>0.214205</td>\n",
       "      <td>0.924384</td>\n",
       "      <td>0.012463</td>\n",
       "      <td>-1.016226</td>\n",
       "      <td>-0.606624</td>\n",
       "      <td>-0.395255</td>\n",
       "      <td>0.068472</td>\n",
       "      <td>-0.053527</td>\n",
       "      <td>24.79</td>\n",
       "      <td>0</td>\n",
       "    </tr>\n",
       "    <tr>\n",
       "      <th>284804</th>\n",
       "      <td>172788.0</td>\n",
       "      <td>1.919565</td>\n",
       "      <td>-0.301254</td>\n",
       "      <td>-3.249640</td>\n",
       "      <td>-0.557828</td>\n",
       "      <td>2.630515</td>\n",
       "      <td>3.031260</td>\n",
       "      <td>-0.296827</td>\n",
       "      <td>0.708417</td>\n",
       "      <td>0.432454</td>\n",
       "      <td>...</td>\n",
       "      <td>0.232045</td>\n",
       "      <td>0.578229</td>\n",
       "      <td>-0.037501</td>\n",
       "      <td>0.640134</td>\n",
       "      <td>0.265745</td>\n",
       "      <td>-0.087371</td>\n",
       "      <td>0.004455</td>\n",
       "      <td>-0.026561</td>\n",
       "      <td>67.88</td>\n",
       "      <td>0</td>\n",
       "    </tr>\n",
       "    <tr>\n",
       "      <th>284805</th>\n",
       "      <td>172788.0</td>\n",
       "      <td>-0.240440</td>\n",
       "      <td>0.530483</td>\n",
       "      <td>0.702510</td>\n",
       "      <td>0.689799</td>\n",
       "      <td>-0.377961</td>\n",
       "      <td>0.623708</td>\n",
       "      <td>-0.686180</td>\n",
       "      <td>0.679145</td>\n",
       "      <td>0.392087</td>\n",
       "      <td>...</td>\n",
       "      <td>0.265245</td>\n",
       "      <td>0.800049</td>\n",
       "      <td>-0.163298</td>\n",
       "      <td>0.123205</td>\n",
       "      <td>-0.569159</td>\n",
       "      <td>0.546668</td>\n",
       "      <td>0.108821</td>\n",
       "      <td>0.104533</td>\n",
       "      <td>10.00</td>\n",
       "      <td>0</td>\n",
       "    </tr>\n",
       "    <tr>\n",
       "      <th>284806</th>\n",
       "      <td>172792.0</td>\n",
       "      <td>-0.533413</td>\n",
       "      <td>-0.189733</td>\n",
       "      <td>0.703337</td>\n",
       "      <td>-0.506271</td>\n",
       "      <td>-0.012546</td>\n",
       "      <td>-0.649617</td>\n",
       "      <td>1.577006</td>\n",
       "      <td>-0.414650</td>\n",
       "      <td>0.486180</td>\n",
       "      <td>...</td>\n",
       "      <td>0.261057</td>\n",
       "      <td>0.643078</td>\n",
       "      <td>0.376777</td>\n",
       "      <td>0.008797</td>\n",
       "      <td>-0.473649</td>\n",
       "      <td>-0.818267</td>\n",
       "      <td>-0.002415</td>\n",
       "      <td>0.013649</td>\n",
       "      <td>217.00</td>\n",
       "      <td>0</td>\n",
       "    </tr>\n",
       "  </tbody>\n",
       "</table>\n",
       "<p>283726 rows × 31 columns</p>\n",
       "</div>"
      ],
      "text/plain": [
       "            Time         V1         V2        V3        V4        V5  \\\n",
       "0            0.0  -1.359807  -0.072781  2.536347  1.378155 -0.338321   \n",
       "1            0.0   1.191857   0.266151  0.166480  0.448154  0.060018   \n",
       "2            1.0  -1.358354  -1.340163  1.773209  0.379780 -0.503198   \n",
       "3            1.0  -0.966272  -0.185226  1.792993 -0.863291 -0.010309   \n",
       "4            2.0  -1.158233   0.877737  1.548718  0.403034 -0.407193   \n",
       "...          ...        ...        ...       ...       ...       ...   \n",
       "284802  172786.0 -11.881118  10.071785 -9.834783 -2.066656 -5.364473   \n",
       "284803  172787.0  -0.732789  -0.055080  2.035030 -0.738589  0.868229   \n",
       "284804  172788.0   1.919565  -0.301254 -3.249640 -0.557828  2.630515   \n",
       "284805  172788.0  -0.240440   0.530483  0.702510  0.689799 -0.377961   \n",
       "284806  172792.0  -0.533413  -0.189733  0.703337 -0.506271 -0.012546   \n",
       "\n",
       "              V6        V7        V8        V9  ...       V21       V22  \\\n",
       "0       0.462388  0.239599  0.098698  0.363787  ... -0.018307  0.277838   \n",
       "1      -0.082361 -0.078803  0.085102 -0.255425  ... -0.225775 -0.638672   \n",
       "2       1.800499  0.791461  0.247676 -1.514654  ...  0.247998  0.771679   \n",
       "3       1.247203  0.237609  0.377436 -1.387024  ... -0.108300  0.005274   \n",
       "4       0.095921  0.592941 -0.270533  0.817739  ... -0.009431  0.798278   \n",
       "...          ...       ...       ...       ...  ...       ...       ...   \n",
       "284802 -2.606837 -4.918215  7.305334  1.914428  ...  0.213454  0.111864   \n",
       "284803  1.058415  0.024330  0.294869  0.584800  ...  0.214205  0.924384   \n",
       "284804  3.031260 -0.296827  0.708417  0.432454  ...  0.232045  0.578229   \n",
       "284805  0.623708 -0.686180  0.679145  0.392087  ...  0.265245  0.800049   \n",
       "284806 -0.649617  1.577006 -0.414650  0.486180  ...  0.261057  0.643078   \n",
       "\n",
       "             V23       V24       V25       V26       V27       V28  Amount  \\\n",
       "0      -0.110474  0.066928  0.128539 -0.189115  0.133558 -0.021053  149.62   \n",
       "1       0.101288 -0.339846  0.167170  0.125895 -0.008983  0.014724    2.69   \n",
       "2       0.909412 -0.689281 -0.327642 -0.139097 -0.055353 -0.059752  378.66   \n",
       "3      -0.190321 -1.175575  0.647376 -0.221929  0.062723  0.061458  123.50   \n",
       "4      -0.137458  0.141267 -0.206010  0.502292  0.219422  0.215153   69.99   \n",
       "...          ...       ...       ...       ...       ...       ...     ...   \n",
       "284802  1.014480 -0.509348  1.436807  0.250034  0.943651  0.823731    0.77   \n",
       "284803  0.012463 -1.016226 -0.606624 -0.395255  0.068472 -0.053527   24.79   \n",
       "284804 -0.037501  0.640134  0.265745 -0.087371  0.004455 -0.026561   67.88   \n",
       "284805 -0.163298  0.123205 -0.569159  0.546668  0.108821  0.104533   10.00   \n",
       "284806  0.376777  0.008797 -0.473649 -0.818267 -0.002415  0.013649  217.00   \n",
       "\n",
       "        Class  \n",
       "0           0  \n",
       "1           0  \n",
       "2           0  \n",
       "3           0  \n",
       "4           0  \n",
       "...       ...  \n",
       "284802      0  \n",
       "284803      0  \n",
       "284804      0  \n",
       "284805      0  \n",
       "284806      0  \n",
       "\n",
       "[283726 rows x 31 columns]"
      ]
     },
     "execution_count": 13,
     "metadata": {},
     "output_type": "execute_result"
    }
   ],
   "source": [
    "data"
   ]
  },
  {
   "cell_type": "code",
   "execution_count": 14,
   "id": "abf8762f",
   "metadata": {
    "execution": {
     "iopub.execute_input": "2023-10-12T15:29:16.483114Z",
     "iopub.status.busy": "2023-10-12T15:29:16.482763Z",
     "iopub.status.idle": "2023-10-12T15:29:16.490024Z",
     "shell.execute_reply": "2023-10-12T15:29:16.489252Z"
    },
    "papermill": {
     "duration": 0.024071,
     "end_time": "2023-10-12T15:29:16.491684",
     "exception": false,
     "start_time": "2023-10-12T15:29:16.467613",
     "status": "completed"
    },
    "tags": []
   },
   "outputs": [
    {
     "data": {
      "text/plain": [
       "Index(['Time', 'V1', 'V2', 'V3', 'V4', 'V5', 'V6', 'V7', 'V8', 'V9', 'V10',\n",
       "       'V11', 'V12', 'V13', 'V14', 'V15', 'V16', 'V17', 'V18', 'V19', 'V20',\n",
       "       'V21', 'V22', 'V23', 'V24', 'V25', 'V26', 'V27', 'V28', 'Amount',\n",
       "       'Class'],\n",
       "      dtype='object')"
      ]
     },
     "execution_count": 14,
     "metadata": {},
     "output_type": "execute_result"
    }
   ],
   "source": [
    "data.columns"
   ]
  },
  {
   "cell_type": "code",
   "execution_count": 15,
   "id": "f9f1cf65",
   "metadata": {
    "execution": {
     "iopub.execute_input": "2023-10-12T15:29:16.525088Z",
     "iopub.status.busy": "2023-10-12T15:29:16.524069Z",
     "iopub.status.idle": "2023-10-12T15:29:17.470413Z",
     "shell.execute_reply": "2023-10-12T15:29:17.469565Z"
    },
    "papermill": {
     "duration": 0.966444,
     "end_time": "2023-10-12T15:29:17.473834",
     "exception": false,
     "start_time": "2023-10-12T15:29:16.507390",
     "status": "completed"
    },
    "tags": []
   },
   "outputs": [
    {
     "data": {
      "text/plain": [
       "False"
      ]
     },
     "execution_count": 15,
     "metadata": {},
     "output_type": "execute_result"
    }
   ],
   "source": [
    "data.duplicated().any()"
   ]
  },
  {
   "cell_type": "code",
   "execution_count": 16,
   "id": "c6734e06",
   "metadata": {
    "execution": {
     "iopub.execute_input": "2023-10-12T15:29:17.498276Z",
     "iopub.status.busy": "2023-10-12T15:29:17.497918Z",
     "iopub.status.idle": "2023-10-12T15:29:17.506077Z",
     "shell.execute_reply": "2023-10-12T15:29:17.504651Z"
    },
    "papermill": {
     "duration": 0.024718,
     "end_time": "2023-10-12T15:29:17.508403",
     "exception": false,
     "start_time": "2023-10-12T15:29:17.483685",
     "status": "completed"
    },
    "tags": []
   },
   "outputs": [
    {
     "data": {
      "text/plain": [
       "(283726, 31)"
      ]
     },
     "execution_count": 16,
     "metadata": {},
     "output_type": "execute_result"
    }
   ],
   "source": [
    "data.shape"
   ]
  },
  {
   "cell_type": "code",
   "execution_count": 17,
   "id": "4ed2b75f",
   "metadata": {
    "execution": {
     "iopub.execute_input": "2023-10-12T15:29:17.532239Z",
     "iopub.status.busy": "2023-10-12T15:29:17.531912Z",
     "iopub.status.idle": "2023-10-12T15:29:17.542855Z",
     "shell.execute_reply": "2023-10-12T15:29:17.541410Z"
    },
    "papermill": {
     "duration": 0.025437,
     "end_time": "2023-10-12T15:29:17.545066",
     "exception": false,
     "start_time": "2023-10-12T15:29:17.519629",
     "status": "completed"
    },
    "tags": []
   },
   "outputs": [
    {
     "data": {
      "text/plain": [
       "Class\n",
       "0    284315\n",
       "1       492\n",
       "Name: count, dtype: int64"
      ]
     },
     "execution_count": 17,
     "metadata": {},
     "output_type": "execute_result"
    }
   ],
   "source": [
    "credit_card['Class'].value_counts()"
   ]
  },
  {
   "cell_type": "code",
   "execution_count": 18,
   "id": "338259b0",
   "metadata": {
    "execution": {
     "iopub.execute_input": "2023-10-12T15:29:17.567225Z",
     "iopub.status.busy": "2023-10-12T15:29:17.566781Z",
     "iopub.status.idle": "2023-10-12T15:29:17.575981Z",
     "shell.execute_reply": "2023-10-12T15:29:17.574976Z"
    },
    "papermill": {
     "duration": 0.022964,
     "end_time": "2023-10-12T15:29:17.578665",
     "exception": false,
     "start_time": "2023-10-12T15:29:17.555701",
     "status": "completed"
    },
    "tags": []
   },
   "outputs": [
    {
     "name": "stdout",
     "output_type": "stream",
     "text": [
      "Fraud Transaction(0): 284315\n",
      "Legitimate Transaction (1): 492\n",
      "This is imbalnce data\n"
     ]
    }
   ],
   "source": [
    "fraud,legitimate = credit_card['Class'].value_counts()\n",
    "\n",
    "print(f\"Fraud Transaction(0): {fraud}\")\n",
    "print(f\"Legitimate Transaction (1): {legitimate}\")\n",
    "print(f\"This is imbalnce data\")\n"
   ]
  },
  {
   "cell_type": "code",
   "execution_count": 19,
   "id": "1502b034",
   "metadata": {
    "execution": {
     "iopub.execute_input": "2023-10-12T15:29:17.605416Z",
     "iopub.status.busy": "2023-10-12T15:29:17.604996Z",
     "iopub.status.idle": "2023-10-12T15:29:17.644223Z",
     "shell.execute_reply": "2023-10-12T15:29:17.642315Z"
    },
    "papermill": {
     "duration": 0.0581,
     "end_time": "2023-10-12T15:29:17.647121",
     "exception": false,
     "start_time": "2023-10-12T15:29:17.589021",
     "status": "completed"
    },
    "tags": []
   },
   "outputs": [],
   "source": [
    "fraud = credit_card[credit_card['Class']==0]\n",
    "legitimate = credit_card[credit_card['Class']==1]"
   ]
  },
  {
   "cell_type": "code",
   "execution_count": 20,
   "id": "7dc10ccc",
   "metadata": {
    "execution": {
     "iopub.execute_input": "2023-10-12T15:29:17.669765Z",
     "iopub.status.busy": "2023-10-12T15:29:17.669232Z",
     "iopub.status.idle": "2023-10-12T15:29:20.549572Z",
     "shell.execute_reply": "2023-10-12T15:29:20.547629Z"
    },
    "papermill": {
     "duration": 2.894226,
     "end_time": "2023-10-12T15:29:20.551960",
     "exception": false,
     "start_time": "2023-10-12T15:29:17.657734",
     "status": "completed"
    },
    "tags": []
   },
   "outputs": [
    {
     "data": {
      "text/plain": [
       "Time      V1         V2         V3         V4         V5         V6         V7         V8         V9         V10        V11        V12        V13        V14        V15        V16        V17        V18        V19        V20        V21        V22        V23        V24        V25        V26        V27        V28        Amount  Class\n",
       "163152.0  -1.196037   1.585949   2.883976   3.378471   1.511706   3.717077   0.585362  -0.156001   0.122648   4.217934   1.385525  -0.709405  -0.256168  -1.564352   1.693218  -0.785210  -0.228008  -0.412833   0.234834   1.375790  -0.370294   0.524395  -0.355170  -0.869790  -0.133198   0.327804  -0.035702  -0.858197  7.56    0        18\n",
       "          -1.203617   1.574009   2.889277   3.381404   1.538663   3.698747   0.560211  -0.150911   0.124136   4.220998   1.384569  -0.706897  -0.256274  -1.562583   1.692915  -0.787338  -0.226776  -0.412354   0.234322   1.385597  -0.366727   0.522223  -0.357329  -0.870174  -0.134166   0.327019  -0.042648  -0.855262  1.51    0        18\n",
       "170731.0   2.033492   0.766969  -2.107555   3.631952   1.348594  -0.499907   0.945159  -0.286392  -1.370581   1.653073  -1.600434  -1.510901  -2.143280   1.189850  -0.875588   0.175808  -0.419433  -0.464717  -1.414528  -0.430560   0.241894   0.658545  -0.102644   0.580535   0.643637   0.347240  -0.116618  -0.078601  0.76    0         9\n",
       "43153.0   -2.086016   2.203265   1.654339   2.941050  -1.683045   0.529728  -1.352162   1.793449  -0.723686   0.600365  -0.982212  -0.551636  -1.337000   0.834403   1.251862   0.033455   1.067978   0.160510   0.213087   0.079002   0.216444   0.567241  -0.035345   0.370201   0.157378   0.440341   0.210230   0.090558  0.76    0         9\n",
       "68780.0    0.491469  -0.917547   1.675188   3.001976  -1.464269   0.749245  -0.702555   0.384311   0.512069   0.338069  -0.709212  -0.268987  -1.020228  -0.303879   0.313640   0.541331  -0.068891  -0.114026  -1.643937   0.306224   0.370712   0.607597  -0.221228   0.405781   0.080558   0.148798   0.022320   0.086863  281.47  0         5\n",
       "                                                                                                                                                                                                                                                                                                                                               ..\n",
       "65179.0    1.211936   0.704387  -0.433427   0.888685   0.246402  -1.146268   0.421741  -0.268994  -0.375879  -0.792653   0.912603   0.691485   1.041027  -1.489310   1.063904   0.106578   1.364831  -0.437407  -0.855633  -0.035289  -0.090995  -0.112559  -0.028042   0.321373   0.495229   0.374352  -0.005887   0.045361  0.76    0         1\n",
       "65180.0    1.115728  -1.075991   0.633478  -0.655357  -1.068740   0.524206  -1.048665   0.367669  -0.460080   0.611242   1.440991  -0.208944  -1.136439  -0.004827   0.076652   0.618923   0.812957  -1.608246   0.188090   0.076327   0.302172   0.742218  -0.071528  -0.277770   0.265391  -0.102726   0.036093   0.011602  80.00   0         1\n",
       "           1.240745   0.776088  -0.313806   0.984619  -0.019049  -1.728700   0.520610  -0.434773  -0.423467  -0.756044   0.917694   0.804933   1.270221  -1.554132   0.769960   0.327372   1.147404  -0.085885  -0.576641   0.005514  -0.102239  -0.168868  -0.035015   0.845781   0.548841   0.331043  -0.020495   0.051391  0.76    0         1\n",
       "65181.0   -6.968622   1.552543  -1.471983   1.509984  -4.907883   2.324274  -4.959692  -1.745430  -1.017672  -0.596870  -0.618192   2.601800   0.030912   1.676190  -1.985493  -1.380569   2.485633   1.500515  -0.060186   0.574921  -2.901364   0.292703  -0.591841   0.293393   0.166165  -0.132610   0.176943  -0.280242  150.00  0         1\n",
       "172792.0  -0.533413  -0.189733   0.703337  -0.506271  -0.012546  -0.649617   1.577006  -0.414650   0.486180  -0.915427  -1.040458  -0.031513  -0.188093  -0.084316   0.041333  -0.302620  -0.660377   0.167430  -0.256117   0.382948   0.261057   0.643078   0.376777   0.008797  -0.473649  -0.818267  -0.002415   0.013649  217.00  0         1\n",
       "Name: count, Length: 283253, dtype: int64"
      ]
     },
     "execution_count": 20,
     "metadata": {},
     "output_type": "execute_result"
    }
   ],
   "source": [
    "fraud.value_counts()"
   ]
  },
  {
   "cell_type": "code",
   "execution_count": 21,
   "id": "4ec0f269",
   "metadata": {
    "execution": {
     "iopub.execute_input": "2023-10-12T15:29:20.572228Z",
     "iopub.status.busy": "2023-10-12T15:29:20.571864Z",
     "iopub.status.idle": "2023-10-12T15:29:20.603473Z",
     "shell.execute_reply": "2023-10-12T15:29:20.602262Z"
    },
    "papermill": {
     "duration": 0.044617,
     "end_time": "2023-10-12T15:29:20.605842",
     "exception": false,
     "start_time": "2023-10-12T15:29:20.561225",
     "status": "completed"
    },
    "tags": []
   },
   "outputs": [
    {
     "data": {
      "text/plain": [
       "Time      V1          V2         V3          V4        V5          V6         V7          V8          V9         V10         V11        V12         V13        V14         V15        V16         V17         V18        V19        V20        V21         V22        V23        V24        V25        V26        V27        V28        Amount  Class\n",
       "68207.0   -13.192671  12.785971  -9.906650   3.320337  -4.801176    5.760059  -18.750889  -37.353443  -0.391540  -5.052502    4.406806  -4.610756   -1.909488  -9.072711   -0.226074  -6.211557   -6.248145   -3.149247   0.051576  -3.493050   27.202839  -8.887017   5.303607  -0.639435   0.263203  -0.108877   1.269566   0.939407  1.00    1        6\n",
       "94362.0   -26.457745  16.497472  -30.177317  8.904157  -17.892600  -1.227904  -31.197329  -11.438920  -9.462573  -22.187089   4.419997  -10.592305  -0.703796  -3.926207   -2.400246  -6.809890   -12.462315  -5.501051  -0.567940   2.812241  -8.755698    3.460893   0.896538   0.254836  -0.738097  -0.966564  -7.263482  -1.324884  1.00    1        4\n",
       "93860.0   -10.850282  6.727466   -16.760583  8.425832  -10.252697  -4.192171  -14.077086   7.168288   -3.683242  -15.239962   8.030708  -16.060306   0.270530  -14.952981  -0.241095  -11.866731  -15.486990  -5.748652   4.130031  -0.646818   2.541637    0.135535  -1.023967   0.406265   0.106593  -0.026232  -1.464630  -0.411682  78.00   1        2\n",
       "148053.0   1.261324   2.726800   -5.435019   5.342759   1.447043   -1.442584  -0.898702    0.123062   -2.748496  -3.202436    1.991361  -3.986416    0.577207  -8.485795   -0.794782  -0.666134   -1.372629   -0.104313  -1.466911   0.313332   0.209086   -0.425938  -0.154440  -0.018820   0.632234   0.192922   0.468181   0.280486  1.59    1        2\n",
       "84204.0   -1.927453   1.827621   -7.019495   5.348303  -2.739188   -2.107219  -5.015848    1.205868   -4.382713  -8.337707    7.190306  -9.424844   -0.223293  -12.875494  -0.071918  -6.299961   -12.719207  -3.740176   0.844060   2.172709   1.376938   -0.792017  -0.771414  -0.379574   0.718717   1.111151   1.277707   0.819081  512.25  1        2\n",
       "                                                                                                                                                                                                                                                                                                                                                        ..\n",
       "46057.0   -1.309441   1.786495   -1.371070   1.214335  -0.336642   -1.390120  -1.709109    0.667748   -1.699809  -3.843911    2.962599  -3.956045   -1.539232  -4.634631   -0.248403  -2.058551   -5.635494   -0.775271  -0.239310   0.253464   0.533521   -0.022180  -0.299556  -0.226416   0.364360  -0.475102   0.571426   0.293426  1.00    1        1\n",
       "45541.0   -1.519244   2.308492   -1.503599   2.064101  -1.000845   -1.016897  -2.059731   -0.275166   -1.562206  -2.755797    3.438248  -3.521529   -0.918761  -4.452100    0.499314  -2.907903   -5.248646   -0.936815   1.160120   0.175019   1.307871    0.102826  -0.017746   0.149696  -0.096602  -0.369115  -0.019244  -0.208319  1.00    1        1\n",
       "45501.0    1.001992   0.047938   -0.349002   1.493958   0.186939    0.190966  -0.001112    0.147140    0.580415  -0.792938   -0.984172  -0.567380   -1.105592  -1.381214    0.405490   0.279890    1.132160    0.092993  -0.298920   0.016004  -0.334417   -1.014315  -0.128427  -0.946242   0.456090  -0.453206   0.046627   0.064698  105.99  1        1\n",
       "45463.0   -1.476893   2.122314   -1.229470   1.201849  -0.343264   -1.317704  -1.528142   -0.620953   -1.213040  -2.975267    3.532220  -3.682640   -1.154777  -5.165229   -0.240091  -2.404927   -5.671739   -0.994294  -0.289936   0.276893   1.186036   -0.040215  -0.238930   0.110144   0.045418  -0.569232   0.481019  -0.047555  1.00    1        1\n",
       "170348.0   1.991976   0.158476   -2.583441   0.408670   1.151147   -0.096695   0.223050   -0.068384    0.577829  -0.888722    0.491140   0.728903    0.380428  -1.948883   -0.832498   0.519436    0.903562    1.197315   0.593509  -0.017652  -0.164350   -0.295135  -0.072173  -0.450261   0.313267  -0.289617   0.002988  -0.015309  42.53   1        1\n",
       "Name: count, Length: 473, dtype: int64"
      ]
     },
     "execution_count": 21,
     "metadata": {},
     "output_type": "execute_result"
    }
   ],
   "source": [
    "legitimate.value_counts()\n"
   ]
  },
  {
   "cell_type": "code",
   "execution_count": 22,
   "id": "18516201",
   "metadata": {
    "execution": {
     "iopub.execute_input": "2023-10-12T15:29:20.630213Z",
     "iopub.status.busy": "2023-10-12T15:29:20.629867Z",
     "iopub.status.idle": "2023-10-12T15:29:21.023193Z",
     "shell.execute_reply": "2023-10-12T15:29:21.022325Z"
    },
    "papermill": {
     "duration": 0.407511,
     "end_time": "2023-10-12T15:29:21.024858",
     "exception": false,
     "start_time": "2023-10-12T15:29:20.617347",
     "status": "completed"
    },
    "tags": []
   },
   "outputs": [
    {
     "data": {
      "text/html": [
       "<div>\n",
       "<style scoped>\n",
       "    .dataframe tbody tr th:only-of-type {\n",
       "        vertical-align: middle;\n",
       "    }\n",
       "\n",
       "    .dataframe tbody tr th {\n",
       "        vertical-align: top;\n",
       "    }\n",
       "\n",
       "    .dataframe thead th {\n",
       "        text-align: right;\n",
       "    }\n",
       "</style>\n",
       "<table border=\"1\" class=\"dataframe\">\n",
       "  <thead>\n",
       "    <tr style=\"text-align: right;\">\n",
       "      <th></th>\n",
       "      <th>Time</th>\n",
       "      <th>V1</th>\n",
       "      <th>V2</th>\n",
       "      <th>V3</th>\n",
       "      <th>V4</th>\n",
       "      <th>V5</th>\n",
       "      <th>V6</th>\n",
       "      <th>V7</th>\n",
       "      <th>V8</th>\n",
       "      <th>V9</th>\n",
       "      <th>...</th>\n",
       "      <th>V21</th>\n",
       "      <th>V22</th>\n",
       "      <th>V23</th>\n",
       "      <th>V24</th>\n",
       "      <th>V25</th>\n",
       "      <th>V26</th>\n",
       "      <th>V27</th>\n",
       "      <th>V28</th>\n",
       "      <th>Amount</th>\n",
       "      <th>Class</th>\n",
       "    </tr>\n",
       "  </thead>\n",
       "  <tbody>\n",
       "    <tr>\n",
       "      <th>count</th>\n",
       "      <td>284807.000000</td>\n",
       "      <td>2.848070e+05</td>\n",
       "      <td>2.848070e+05</td>\n",
       "      <td>2.848070e+05</td>\n",
       "      <td>2.848070e+05</td>\n",
       "      <td>2.848070e+05</td>\n",
       "      <td>2.848070e+05</td>\n",
       "      <td>2.848070e+05</td>\n",
       "      <td>2.848070e+05</td>\n",
       "      <td>2.848070e+05</td>\n",
       "      <td>...</td>\n",
       "      <td>2.848070e+05</td>\n",
       "      <td>2.848070e+05</td>\n",
       "      <td>2.848070e+05</td>\n",
       "      <td>2.848070e+05</td>\n",
       "      <td>2.848070e+05</td>\n",
       "      <td>2.848070e+05</td>\n",
       "      <td>2.848070e+05</td>\n",
       "      <td>2.848070e+05</td>\n",
       "      <td>284807.000000</td>\n",
       "      <td>284807.000000</td>\n",
       "    </tr>\n",
       "    <tr>\n",
       "      <th>mean</th>\n",
       "      <td>94813.859575</td>\n",
       "      <td>1.168375e-15</td>\n",
       "      <td>3.416908e-16</td>\n",
       "      <td>-1.379537e-15</td>\n",
       "      <td>2.074095e-15</td>\n",
       "      <td>9.604066e-16</td>\n",
       "      <td>1.487313e-15</td>\n",
       "      <td>-5.556467e-16</td>\n",
       "      <td>1.213481e-16</td>\n",
       "      <td>-2.406331e-15</td>\n",
       "      <td>...</td>\n",
       "      <td>1.654067e-16</td>\n",
       "      <td>-3.568593e-16</td>\n",
       "      <td>2.578648e-16</td>\n",
       "      <td>4.473266e-15</td>\n",
       "      <td>5.340915e-16</td>\n",
       "      <td>1.683437e-15</td>\n",
       "      <td>-3.660091e-16</td>\n",
       "      <td>-1.227390e-16</td>\n",
       "      <td>88.349619</td>\n",
       "      <td>0.001727</td>\n",
       "    </tr>\n",
       "    <tr>\n",
       "      <th>std</th>\n",
       "      <td>47488.145955</td>\n",
       "      <td>1.958696e+00</td>\n",
       "      <td>1.651309e+00</td>\n",
       "      <td>1.516255e+00</td>\n",
       "      <td>1.415869e+00</td>\n",
       "      <td>1.380247e+00</td>\n",
       "      <td>1.332271e+00</td>\n",
       "      <td>1.237094e+00</td>\n",
       "      <td>1.194353e+00</td>\n",
       "      <td>1.098632e+00</td>\n",
       "      <td>...</td>\n",
       "      <td>7.345240e-01</td>\n",
       "      <td>7.257016e-01</td>\n",
       "      <td>6.244603e-01</td>\n",
       "      <td>6.056471e-01</td>\n",
       "      <td>5.212781e-01</td>\n",
       "      <td>4.822270e-01</td>\n",
       "      <td>4.036325e-01</td>\n",
       "      <td>3.300833e-01</td>\n",
       "      <td>250.120109</td>\n",
       "      <td>0.041527</td>\n",
       "    </tr>\n",
       "    <tr>\n",
       "      <th>min</th>\n",
       "      <td>0.000000</td>\n",
       "      <td>-5.640751e+01</td>\n",
       "      <td>-7.271573e+01</td>\n",
       "      <td>-4.832559e+01</td>\n",
       "      <td>-5.683171e+00</td>\n",
       "      <td>-1.137433e+02</td>\n",
       "      <td>-2.616051e+01</td>\n",
       "      <td>-4.355724e+01</td>\n",
       "      <td>-7.321672e+01</td>\n",
       "      <td>-1.343407e+01</td>\n",
       "      <td>...</td>\n",
       "      <td>-3.483038e+01</td>\n",
       "      <td>-1.093314e+01</td>\n",
       "      <td>-4.480774e+01</td>\n",
       "      <td>-2.836627e+00</td>\n",
       "      <td>-1.029540e+01</td>\n",
       "      <td>-2.604551e+00</td>\n",
       "      <td>-2.256568e+01</td>\n",
       "      <td>-1.543008e+01</td>\n",
       "      <td>0.000000</td>\n",
       "      <td>0.000000</td>\n",
       "    </tr>\n",
       "    <tr>\n",
       "      <th>25%</th>\n",
       "      <td>54201.500000</td>\n",
       "      <td>-9.203734e-01</td>\n",
       "      <td>-5.985499e-01</td>\n",
       "      <td>-8.903648e-01</td>\n",
       "      <td>-8.486401e-01</td>\n",
       "      <td>-6.915971e-01</td>\n",
       "      <td>-7.682956e-01</td>\n",
       "      <td>-5.540759e-01</td>\n",
       "      <td>-2.086297e-01</td>\n",
       "      <td>-6.430976e-01</td>\n",
       "      <td>...</td>\n",
       "      <td>-2.283949e-01</td>\n",
       "      <td>-5.423504e-01</td>\n",
       "      <td>-1.618463e-01</td>\n",
       "      <td>-3.545861e-01</td>\n",
       "      <td>-3.171451e-01</td>\n",
       "      <td>-3.269839e-01</td>\n",
       "      <td>-7.083953e-02</td>\n",
       "      <td>-5.295979e-02</td>\n",
       "      <td>5.600000</td>\n",
       "      <td>0.000000</td>\n",
       "    </tr>\n",
       "    <tr>\n",
       "      <th>50%</th>\n",
       "      <td>84692.000000</td>\n",
       "      <td>1.810880e-02</td>\n",
       "      <td>6.548556e-02</td>\n",
       "      <td>1.798463e-01</td>\n",
       "      <td>-1.984653e-02</td>\n",
       "      <td>-5.433583e-02</td>\n",
       "      <td>-2.741871e-01</td>\n",
       "      <td>4.010308e-02</td>\n",
       "      <td>2.235804e-02</td>\n",
       "      <td>-5.142873e-02</td>\n",
       "      <td>...</td>\n",
       "      <td>-2.945017e-02</td>\n",
       "      <td>6.781943e-03</td>\n",
       "      <td>-1.119293e-02</td>\n",
       "      <td>4.097606e-02</td>\n",
       "      <td>1.659350e-02</td>\n",
       "      <td>-5.213911e-02</td>\n",
       "      <td>1.342146e-03</td>\n",
       "      <td>1.124383e-02</td>\n",
       "      <td>22.000000</td>\n",
       "      <td>0.000000</td>\n",
       "    </tr>\n",
       "    <tr>\n",
       "      <th>75%</th>\n",
       "      <td>139320.500000</td>\n",
       "      <td>1.315642e+00</td>\n",
       "      <td>8.037239e-01</td>\n",
       "      <td>1.027196e+00</td>\n",
       "      <td>7.433413e-01</td>\n",
       "      <td>6.119264e-01</td>\n",
       "      <td>3.985649e-01</td>\n",
       "      <td>5.704361e-01</td>\n",
       "      <td>3.273459e-01</td>\n",
       "      <td>5.971390e-01</td>\n",
       "      <td>...</td>\n",
       "      <td>1.863772e-01</td>\n",
       "      <td>5.285536e-01</td>\n",
       "      <td>1.476421e-01</td>\n",
       "      <td>4.395266e-01</td>\n",
       "      <td>3.507156e-01</td>\n",
       "      <td>2.409522e-01</td>\n",
       "      <td>9.104512e-02</td>\n",
       "      <td>7.827995e-02</td>\n",
       "      <td>77.165000</td>\n",
       "      <td>0.000000</td>\n",
       "    </tr>\n",
       "    <tr>\n",
       "      <th>max</th>\n",
       "      <td>172792.000000</td>\n",
       "      <td>2.454930e+00</td>\n",
       "      <td>2.205773e+01</td>\n",
       "      <td>9.382558e+00</td>\n",
       "      <td>1.687534e+01</td>\n",
       "      <td>3.480167e+01</td>\n",
       "      <td>7.330163e+01</td>\n",
       "      <td>1.205895e+02</td>\n",
       "      <td>2.000721e+01</td>\n",
       "      <td>1.559499e+01</td>\n",
       "      <td>...</td>\n",
       "      <td>2.720284e+01</td>\n",
       "      <td>1.050309e+01</td>\n",
       "      <td>2.252841e+01</td>\n",
       "      <td>4.584549e+00</td>\n",
       "      <td>7.519589e+00</td>\n",
       "      <td>3.517346e+00</td>\n",
       "      <td>3.161220e+01</td>\n",
       "      <td>3.384781e+01</td>\n",
       "      <td>25691.160000</td>\n",
       "      <td>1.000000</td>\n",
       "    </tr>\n",
       "  </tbody>\n",
       "</table>\n",
       "<p>8 rows × 31 columns</p>\n",
       "</div>"
      ],
      "text/plain": [
       "                Time            V1            V2            V3            V4  \\\n",
       "count  284807.000000  2.848070e+05  2.848070e+05  2.848070e+05  2.848070e+05   \n",
       "mean    94813.859575  1.168375e-15  3.416908e-16 -1.379537e-15  2.074095e-15   \n",
       "std     47488.145955  1.958696e+00  1.651309e+00  1.516255e+00  1.415869e+00   \n",
       "min         0.000000 -5.640751e+01 -7.271573e+01 -4.832559e+01 -5.683171e+00   \n",
       "25%     54201.500000 -9.203734e-01 -5.985499e-01 -8.903648e-01 -8.486401e-01   \n",
       "50%     84692.000000  1.810880e-02  6.548556e-02  1.798463e-01 -1.984653e-02   \n",
       "75%    139320.500000  1.315642e+00  8.037239e-01  1.027196e+00  7.433413e-01   \n",
       "max    172792.000000  2.454930e+00  2.205773e+01  9.382558e+00  1.687534e+01   \n",
       "\n",
       "                 V5            V6            V7            V8            V9  \\\n",
       "count  2.848070e+05  2.848070e+05  2.848070e+05  2.848070e+05  2.848070e+05   \n",
       "mean   9.604066e-16  1.487313e-15 -5.556467e-16  1.213481e-16 -2.406331e-15   \n",
       "std    1.380247e+00  1.332271e+00  1.237094e+00  1.194353e+00  1.098632e+00   \n",
       "min   -1.137433e+02 -2.616051e+01 -4.355724e+01 -7.321672e+01 -1.343407e+01   \n",
       "25%   -6.915971e-01 -7.682956e-01 -5.540759e-01 -2.086297e-01 -6.430976e-01   \n",
       "50%   -5.433583e-02 -2.741871e-01  4.010308e-02  2.235804e-02 -5.142873e-02   \n",
       "75%    6.119264e-01  3.985649e-01  5.704361e-01  3.273459e-01  5.971390e-01   \n",
       "max    3.480167e+01  7.330163e+01  1.205895e+02  2.000721e+01  1.559499e+01   \n",
       "\n",
       "       ...           V21           V22           V23           V24  \\\n",
       "count  ...  2.848070e+05  2.848070e+05  2.848070e+05  2.848070e+05   \n",
       "mean   ...  1.654067e-16 -3.568593e-16  2.578648e-16  4.473266e-15   \n",
       "std    ...  7.345240e-01  7.257016e-01  6.244603e-01  6.056471e-01   \n",
       "min    ... -3.483038e+01 -1.093314e+01 -4.480774e+01 -2.836627e+00   \n",
       "25%    ... -2.283949e-01 -5.423504e-01 -1.618463e-01 -3.545861e-01   \n",
       "50%    ... -2.945017e-02  6.781943e-03 -1.119293e-02  4.097606e-02   \n",
       "75%    ...  1.863772e-01  5.285536e-01  1.476421e-01  4.395266e-01   \n",
       "max    ...  2.720284e+01  1.050309e+01  2.252841e+01  4.584549e+00   \n",
       "\n",
       "                V25           V26           V27           V28         Amount  \\\n",
       "count  2.848070e+05  2.848070e+05  2.848070e+05  2.848070e+05  284807.000000   \n",
       "mean   5.340915e-16  1.683437e-15 -3.660091e-16 -1.227390e-16      88.349619   \n",
       "std    5.212781e-01  4.822270e-01  4.036325e-01  3.300833e-01     250.120109   \n",
       "min   -1.029540e+01 -2.604551e+00 -2.256568e+01 -1.543008e+01       0.000000   \n",
       "25%   -3.171451e-01 -3.269839e-01 -7.083953e-02 -5.295979e-02       5.600000   \n",
       "50%    1.659350e-02 -5.213911e-02  1.342146e-03  1.124383e-02      22.000000   \n",
       "75%    3.507156e-01  2.409522e-01  9.104512e-02  7.827995e-02      77.165000   \n",
       "max    7.519589e+00  3.517346e+00  3.161220e+01  3.384781e+01   25691.160000   \n",
       "\n",
       "               Class  \n",
       "count  284807.000000  \n",
       "mean        0.001727  \n",
       "std         0.041527  \n",
       "min         0.000000  \n",
       "25%         0.000000  \n",
       "50%         0.000000  \n",
       "75%         0.000000  \n",
       "max         1.000000  \n",
       "\n",
       "[8 rows x 31 columns]"
      ]
     },
     "execution_count": 22,
     "metadata": {},
     "output_type": "execute_result"
    }
   ],
   "source": [
    "credit_card.describe()"
   ]
  },
  {
   "cell_type": "code",
   "execution_count": 23,
   "id": "5ba028ea",
   "metadata": {
    "execution": {
     "iopub.execute_input": "2023-10-12T15:29:21.046919Z",
     "iopub.status.busy": "2023-10-12T15:29:21.046583Z",
     "iopub.status.idle": "2023-10-12T15:29:21.068895Z",
     "shell.execute_reply": "2023-10-12T15:29:21.067061Z"
    },
    "papermill": {
     "duration": 0.035952,
     "end_time": "2023-10-12T15:29:21.070965",
     "exception": false,
     "start_time": "2023-10-12T15:29:21.035013",
     "status": "completed"
    },
    "tags": []
   },
   "outputs": [],
   "source": [
    "X = data.drop('Class', axis=1)\n",
    "Y = data['Class']\n"
   ]
  },
  {
   "cell_type": "markdown",
   "id": "096fbde5",
   "metadata": {
    "papermill": {
     "duration": 0.009039,
     "end_time": "2023-10-12T15:29:21.092136",
     "exception": false,
     "start_time": "2023-10-12T15:29:21.083097",
     "status": "completed"
    },
    "tags": []
   },
   "source": [
    "### 3. Handling Imbalanced Data \n",
    "\n",
    "                  Handling imbalanced data is a crucial aspect of machine learning, as many real-world datasets often have significant class imbalances. Resampling techniques are commonly used to address this issue.It consists of removing       samples from the majority class (under-sampling) or adding more examples from the minority class (over-sampling).\n",
    " \n",
    "\n",
    "#### I handle imbalanced data using Synthetic Minority Oversampling Technique (SMOTE)\n",
    "                  SMOTE (Synthetic Minority Oversampling Technique) works by randomly picking a point from the minority     class and computing the k-nearest neighbors for this point. The synthetic points are added between the chosen point and its neighbors.\n"
   ]
  },
  {
   "cell_type": "code",
   "execution_count": 24,
   "id": "ef32b32b",
   "metadata": {
    "execution": {
     "iopub.execute_input": "2023-10-12T15:29:21.114928Z",
     "iopub.status.busy": "2023-10-12T15:29:21.114088Z",
     "iopub.status.idle": "2023-10-12T15:29:21.121237Z",
     "shell.execute_reply": "2023-10-12T15:29:21.120063Z"
    },
    "papermill": {
     "duration": 0.020637,
     "end_time": "2023-10-12T15:29:21.123325",
     "exception": false,
     "start_time": "2023-10-12T15:29:21.102688",
     "status": "completed"
    },
    "tags": []
   },
   "outputs": [
    {
     "data": {
      "text/plain": [
       "(283726, 30)"
      ]
     },
     "execution_count": 24,
     "metadata": {},
     "output_type": "execute_result"
    }
   ],
   "source": [
    "X.shape"
   ]
  },
  {
   "cell_type": "code",
   "execution_count": 25,
   "id": "c81853c1",
   "metadata": {
    "execution": {
     "iopub.execute_input": "2023-10-12T15:29:21.145443Z",
     "iopub.status.busy": "2023-10-12T15:29:21.144913Z",
     "iopub.status.idle": "2023-10-12T15:29:21.150784Z",
     "shell.execute_reply": "2023-10-12T15:29:21.148815Z"
    },
    "papermill": {
     "duration": 0.019655,
     "end_time": "2023-10-12T15:29:21.152992",
     "exception": false,
     "start_time": "2023-10-12T15:29:21.133337",
     "status": "completed"
    },
    "tags": []
   },
   "outputs": [
    {
     "data": {
      "text/plain": [
       "(283726,)"
      ]
     },
     "execution_count": 25,
     "metadata": {},
     "output_type": "execute_result"
    }
   ],
   "source": [
    "Y.shape"
   ]
  },
  {
   "cell_type": "code",
   "execution_count": 26,
   "id": "a1bc87d7",
   "metadata": {
    "execution": {
     "iopub.execute_input": "2023-10-12T15:29:21.174014Z",
     "iopub.status.busy": "2023-10-12T15:29:21.173439Z",
     "iopub.status.idle": "2023-10-12T15:29:21.532462Z",
     "shell.execute_reply": "2023-10-12T15:29:21.530713Z"
    },
    "papermill": {
     "duration": 0.371716,
     "end_time": "2023-10-12T15:29:21.534588",
     "exception": false,
     "start_time": "2023-10-12T15:29:21.162872",
     "status": "completed"
    },
    "tags": []
   },
   "outputs": [],
   "source": [
    " # You can specify a random state for reproducibility\n",
    "smote = SMOTE(random_state=42) \n",
    "x_smote, y_smote = smote.fit_resample(X, Y)\n"
   ]
  },
  {
   "cell_type": "code",
   "execution_count": 27,
   "id": "42499597",
   "metadata": {
    "execution": {
     "iopub.execute_input": "2023-10-12T15:29:21.558934Z",
     "iopub.status.busy": "2023-10-12T15:29:21.558120Z",
     "iopub.status.idle": "2023-10-12T15:29:21.567994Z",
     "shell.execute_reply": "2023-10-12T15:29:21.566882Z"
    },
    "papermill": {
     "duration": 0.024524,
     "end_time": "2023-10-12T15:29:21.570240",
     "exception": false,
     "start_time": "2023-10-12T15:29:21.545716",
     "status": "completed"
    },
    "tags": []
   },
   "outputs": [
    {
     "data": {
      "text/plain": [
       "Class\n",
       "0    283253\n",
       "1    283253\n",
       "Name: count, dtype: int64"
      ]
     },
     "execution_count": 27,
     "metadata": {},
     "output_type": "execute_result"
    }
   ],
   "source": [
    "y_smote.value_counts()"
   ]
  },
  {
   "cell_type": "code",
   "execution_count": 28,
   "id": "8dedd19c",
   "metadata": {
    "execution": {
     "iopub.execute_input": "2023-10-12T15:29:21.593440Z",
     "iopub.status.busy": "2023-10-12T15:29:21.592801Z",
     "iopub.status.idle": "2023-10-12T15:29:21.665809Z",
     "shell.execute_reply": "2023-10-12T15:29:21.664928Z"
    },
    "papermill": {
     "duration": 0.087828,
     "end_time": "2023-10-12T15:29:21.668276",
     "exception": false,
     "start_time": "2023-10-12T15:29:21.580448",
     "status": "completed"
    },
    "tags": []
   },
   "outputs": [
    {
     "name": "stdout",
     "output_type": "stream",
     "text": [
      "Original dataset shape Counter({0: 283253, 1: 473})\n",
      "Resample dataset shape Counter({0: 283253, 1: 283253})\n"
     ]
    }
   ],
   "source": [
    "print('Original dataset shape', Counter(Y))\n",
    "print('Resample dataset shape', Counter(y_smote))"
   ]
  },
  {
   "cell_type": "markdown",
   "id": "fd35487e",
   "metadata": {
    "papermill": {
     "duration": 0.010959,
     "end_time": "2023-10-12T15:29:21.690267",
     "exception": false,
     "start_time": "2023-10-12T15:29:21.679308",
     "status": "completed"
    },
    "tags": []
   },
   "source": [
    "### 4. Split the Dataset for Test and Train\n"
   ]
  },
  {
   "cell_type": "code",
   "execution_count": 29,
   "id": "842bcdc3",
   "metadata": {
    "execution": {
     "iopub.execute_input": "2023-10-12T15:29:21.715945Z",
     "iopub.status.busy": "2023-10-12T15:29:21.715641Z",
     "iopub.status.idle": "2023-10-12T15:29:22.194158Z",
     "shell.execute_reply": "2023-10-12T15:29:22.192648Z"
    },
    "papermill": {
     "duration": 0.49159,
     "end_time": "2023-10-12T15:29:22.196239",
     "exception": false,
     "start_time": "2023-10-12T15:29:21.704649",
     "status": "completed"
    },
    "tags": []
   },
   "outputs": [],
   "source": [
    "X_train, X_test, Y_train, Y_test = train_test_split(x_smote, y_smote, test_size=0.20, random_state=42)\n"
   ]
  },
  {
   "cell_type": "code",
   "execution_count": 30,
   "id": "7a635631",
   "metadata": {
    "execution": {
     "iopub.execute_input": "2023-10-12T15:29:22.238745Z",
     "iopub.status.busy": "2023-10-12T15:29:22.238433Z",
     "iopub.status.idle": "2023-10-12T15:29:24.177061Z",
     "shell.execute_reply": "2023-10-12T15:29:24.176418Z"
    },
    "papermill": {
     "duration": 1.951283,
     "end_time": "2023-10-12T15:29:24.178602",
     "exception": false,
     "start_time": "2023-10-12T15:29:22.227319",
     "status": "completed"
    },
    "tags": []
   },
   "outputs": [
    {
     "data": {
      "image/png": "[encoded data removed]",
      "text/plain": [
       "<Figure size 800x600 with 1 Axes>"
      ]
     },
     "metadata": {},
     "output_type": "display_data"
    }
   ],
   "source": [
    "fraud_data = data[data['Class'] == 0]\n",
    "legitimate_data = data[data['Class'] == 1]\n",
    "plt.figure(figsize=(8, 6))\n",
    "plt.title(\"Transaction Amount - Fraud vs. Legitimate\")\n",
    "plt.xlabel(\"Amount ($)\")\n",
    "plt.ylabel(\"Frequency\")\n",
    "sns.histplot(fraud_data['Amount'], bins=50, kde=True, color=\"gold\", label=\"Fraud\")\n",
    "sns.histplot(legitimate_data['Amount'], bins=50, kde=True, color=\"blue\", label=\"Legitimate\")\n",
    "plt.legend()\n",
    "plt.show()\n"
   ]
  },
  {
   "cell_type": "code",
   "execution_count": 31,
   "id": "358911f6",
   "metadata": {
    "execution": {
     "iopub.execute_input": "2023-10-12T15:29:24.205100Z",
     "iopub.status.busy": "2023-10-12T15:29:24.203800Z",
     "iopub.status.idle": "2023-10-12T15:29:24.427891Z",
     "shell.execute_reply": "2023-10-12T15:29:24.425604Z"
    },
    "papermill": {
     "duration": 0.239962,
     "end_time": "2023-10-12T15:29:24.430179",
     "exception": false,
     "start_time": "2023-10-12T15:29:24.190217",
     "status": "completed"
    },
    "tags": []
   },
   "outputs": [
    {
     "data": {
      "image/png": "[encoded data removed]",
      "text/plain": [
       "<Figure size 800x600 with 1 Axes>"
      ]
     },
     "metadata": {},
     "output_type": "display_data"
    }
   ],
   "source": [
    "plt.figure(figsize=(8, 6))\n",
    "plt.title(\"Transaction Amount\")\n",
    "sns.boxplot(x=\"Class\", y=\"Amount\", data=data, boxprops=dict(facecolor=\"blue\"), whiskerprops=dict(color=\"gold\"), capprops=dict(color=\"gold\"))\n",
    "plt.show()\n"
   ]
  },
  {
   "cell_type": "code",
   "execution_count": 32,
   "id": "7cc2b6af",
   "metadata": {
    "execution": {
     "iopub.execute_input": "2023-10-12T15:29:24.456368Z",
     "iopub.status.busy": "2023-10-12T15:29:24.455168Z",
     "iopub.status.idle": "2023-10-12T15:29:25.748326Z",
     "shell.execute_reply": "2023-10-12T15:29:25.747554Z"
    },
    "papermill": {
     "duration": 1.309367,
     "end_time": "2023-10-12T15:29:25.750178",
     "exception": false,
     "start_time": "2023-10-12T15:29:24.440811",
     "status": "completed"
    },
    "tags": []
   },
   "outputs": [
    {
     "data": {
      "image/png": "[encoded data removed]",
      "text/plain": [
       "<Figure size 800x600 with 2 Axes>"
      ]
     },
     "metadata": {},
     "output_type": "display_data"
    }
   ],
   "source": [
    "corr_imbalanced = credit_card.corr()\n",
    "plt.figure(figsize=(8, 6))\n",
    "sns.heatmap(corr_imbalanced, annot=False, cmap=\"plasma\", linewidths=0.5)\n",
    "plt.title(\"Correlation Matrix for Imbalanced Data\")\n",
    "plt.show()"
   ]
  },
  {
   "cell_type": "code",
   "execution_count": 33,
   "id": "6896a042",
   "metadata": {
    "execution": {
     "iopub.execute_input": "2023-10-12T15:29:25.791749Z",
     "iopub.status.busy": "2023-10-12T15:29:25.791374Z",
     "iopub.status.idle": "2023-10-12T15:29:27.564918Z",
     "shell.execute_reply": "2023-10-12T15:29:27.563790Z"
    },
    "papermill": {
     "duration": 1.798074,
     "end_time": "2023-10-12T15:29:27.567508",
     "exception": false,
     "start_time": "2023-10-12T15:29:25.769434",
     "status": "completed"
    },
    "tags": []
   },
   "outputs": [
    {
     "data": {
      "image/png": "[encoded data removed]",
      "text/plain": [
       "<Figure size 800x600 with 2 Axes>"
      ]
     },
     "metadata": {},
     "output_type": "display_data"
    }
   ],
   "source": [
    "corr_balanced = x_smote.corr()\n",
    "plt.figure(figsize=(8, 6))\n",
    "sns.heatmap(corr_balanced, annot=False, cmap=\"plasma\", linewidths=0.5)\n",
    "plt.title(\"Correlation Matrix for Balanced Data\")\n",
    "plt.show()"
   ]
  },
  {
   "cell_type": "code",
   "execution_count": 34,
   "id": "73ee673b",
   "metadata": {
    "execution": {
     "iopub.execute_input": "2023-10-12T15:29:27.611286Z",
     "iopub.status.busy": "2023-10-12T15:29:27.610972Z",
     "iopub.status.idle": "2023-10-12T15:29:27.837836Z",
     "shell.execute_reply": "2023-10-12T15:29:27.834443Z"
    },
    "papermill": {
     "duration": 0.251351,
     "end_time": "2023-10-12T15:29:27.840459",
     "exception": false,
     "start_time": "2023-10-12T15:29:27.589108",
     "status": "completed"
    },
    "tags": []
   },
   "outputs": [
    {
     "data": {
      "image/png": "[encoded data removed]",
      "text/plain": [
       "<Figure size 800x600 with 1 Axes>"
      ]
     },
     "metadata": {},
     "output_type": "display_data"
    }
   ],
   "source": [
    "custom_palette = sns.color_palette([\"blue\", \"gold\"])\n",
    "plt.figure(figsize=(8, 6))\n",
    "sns.countplot(x=\"Class\", data=data, palette=custom_palette)\n",
    "plt.title(\"Class Distribution\")\n",
    "plt.show()\n"
   ]
  },
  {
   "cell_type": "code",
   "execution_count": 35,
   "id": "4e990abc",
   "metadata": {
    "execution": {
     "iopub.execute_input": "2023-10-12T15:29:27.881706Z",
     "iopub.status.busy": "2023-10-12T15:29:27.880698Z",
     "iopub.status.idle": "2023-10-12T15:29:28.123348Z",
     "shell.execute_reply": "2023-10-12T15:29:28.121909Z"
    },
    "papermill": {
     "duration": 0.262745,
     "end_time": "2023-10-12T15:29:28.125987",
     "exception": false,
     "start_time": "2023-10-12T15:29:27.863242",
     "status": "completed"
    },
    "tags": []
   },
   "outputs": [
    {
     "data": {
      "image/png": "[encoded data removed]",
      "text/plain": [
       "<Figure size 800x600 with 1 Axes>"
      ]
     },
     "metadata": {},
     "output_type": "display_data"
    }
   ],
   "source": [
    "custom_palette = sns.color_palette([\"blue\", \"gold\"])\n",
    "plt.figure(figsize=(8, 6))\n",
    "sns.countplot(x=y_smote, palette=custom_palette)\n",
    "plt.title(\"Distribution of Classes After Resampling (SMOTE)\")\n",
    "plt.xlabel(\"Class (0: Fraud, 1: Legitimate)\")\n",
    "plt.ylabel(\"Count\")\n",
    "plt.show()\n"
   ]
  },
  {
   "cell_type": "code",
   "execution_count": 36,
   "id": "d51d7242",
   "metadata": {
    "execution": {
     "iopub.execute_input": "2023-10-12T15:29:28.198061Z",
     "iopub.status.busy": "2023-10-12T15:29:28.197326Z",
     "iopub.status.idle": "2023-10-12T15:29:32.971072Z",
     "shell.execute_reply": "2023-10-12T15:29:32.969606Z"
    },
    "papermill": {
     "duration": 4.808558,
     "end_time": "2023-10-12T15:29:32.982452",
     "exception": false,
     "start_time": "2023-10-12T15:29:28.173894",
     "status": "completed"
    },
    "tags": []
   },
   "outputs": [
    {
     "name": "stderr",
     "output_type": "stream",
     "text": [
      "/opt/conda/lib/python3.10/site-packages/sklearn/linear_model/_logistic.py:458: ConvergenceWarning: lbfgs failed to converge (status=1):\n",
      "STOP: TOTAL NO. of ITERATIONS REACHED LIMIT.\n",
      "\n",
      "Increase the number of iterations (max_iter) or scale the data as shown in:\n",
      "    https://scikit-learn.org/stable/modules/preprocessing.html\n",
      "Please also refer to the documentation for alternative solver options:\n",
      "    https://scikit-learn.org/stable/modules/linear_model.html#logistic-regression\n",
      "  n_iter_i = _check_optimize_result(\n"
     ]
    },
    {
     "data": {
      "text/html": [
       "<style>#sk-container-id-1 {color: black;background-color: white;}#sk-container-id-1 pre{padding: 0;}#sk-container-id-1 div.sk-toggleable {background-color: white;}#sk-container-id-1 label.sk-toggleable__label {cursor: pointer;display: block;width: 100%;margin-bottom: 0;padding: 0.3em;box-sizing: border-box;text-align: center;}#sk-container-id-1 label.sk-toggleable__label-arrow:before {content: \"▸\";float: left;margin-right: 0.25em;color: #696969;}#sk-container-id-1 label.sk-toggleable__label-arrow:hover:before {color: black;}#sk-container-id-1 div.sk-estimator:hover label.sk-toggleable__label-arrow:before {color: black;}#sk-container-id-1 div.sk-toggleable__content {max-height: 0;max-width: 0;overflow: hidden;text-align: left;background-color: #f0f8ff;}#sk-container-id-1 div.sk-toggleable__content pre {margin: 0.2em;color: black;border-radius: 0.25em;background-color: #f0f8ff;}#sk-container-id-1 input.sk-toggleable__control:checked~div.sk-toggleable__content {max-height: 200px;max-width: 100%;overflow: auto;}#sk-container-id-1 input.sk-toggleable__control:checked~label.sk-toggleable__label-arrow:before {content: \"▾\";}#sk-container-id-1 div.sk-estimator input.sk-toggleable__control:checked~label.sk-toggleable__label {background-color: #d4ebff;}#sk-container-id-1 div.sk-label input.sk-toggleable__control:checked~label.sk-toggleable__label {background-color: #d4ebff;}#sk-container-id-1 input.sk-hidden--visually {border: 0;clip: rect(1px 1px 1px 1px);clip: rect(1px, 1px, 1px, 1px);height: 1px;margin: -1px;overflow: hidden;padding: 0;position: absolute;width: 1px;}#sk-container-id-1 div.sk-estimator {font-family: monospace;background-color: #f0f8ff;border: 1px dotted black;border-radius: 0.25em;box-sizing: border-box;margin-bottom: 0.5em;}#sk-container-id-1 div.sk-estimator:hover {background-color: #d4ebff;}#sk-container-id-1 div.sk-parallel-item::after {content: \"\";width: 100%;border-bottom: 1px solid gray;flex-grow: 1;}#sk-container-id-1 div.sk-label:hover label.sk-toggleable__label {background-color: #d4ebff;}#sk-container-id-1 div.sk-serial::before {content: \"\";position: absolute;border-left: 1px solid gray;box-sizing: border-box;top: 0;bottom: 0;left: 50%;z-index: 0;}#sk-container-id-1 div.sk-serial {display: flex;flex-direction: column;align-items: center;background-color: white;padding-right: 0.2em;padding-left: 0.2em;position: relative;}#sk-container-id-1 div.sk-item {position: relative;z-index: 1;}#sk-container-id-1 div.sk-parallel {display: flex;align-items: stretch;justify-content: center;background-color: white;position: relative;}#sk-container-id-1 div.sk-item::before, #sk-container-id-1 div.sk-parallel-item::before {content: \"\";position: absolute;border-left: 1px solid gray;box-sizing: border-box;top: 0;bottom: 0;left: 50%;z-index: -1;}#sk-container-id-1 div.sk-parallel-item {display: flex;flex-direction: column;z-index: 1;position: relative;background-color: white;}#sk-container-id-1 div.sk-parallel-item:first-child::after {align-self: flex-end;width: 50%;}#sk-container-id-1 div.sk-parallel-item:last-child::after {align-self: flex-start;width: 50%;}#sk-container-id-1 div.sk-parallel-item:only-child::after {width: 0;}#sk-container-id-1 div.sk-dashed-wrapped {border: 1px dashed gray;margin: 0 0.4em 0.5em 0.4em;box-sizing: border-box;padding-bottom: 0.4em;background-color: white;}#sk-container-id-1 div.sk-label label {font-family: monospace;font-weight: bold;display: inline-block;line-height: 1.2em;}#sk-container-id-1 div.sk-label-container {text-align: center;}#sk-container-id-1 div.sk-container {/* jupyter's `normalize.less` sets `[hidden] { display: none; }` but bootstrap.min.css set `[hidden] { display: none !important; }` so we also need the `!important` here to be able to override the default hidden behavior on the sphinx rendered scikit-learn.org. See: https://github.com/scikit-learn/scikit-learn/issues/21755 */display: inline-block !important;position: relative;}#sk-container-id-1 div.sk-text-repr-fallback {display: none;}</style><div id=\"sk-container-id-1\" class=\"sk-top-container\"><div class=\"sk-text-repr-fallback\"><pre>LogisticRegression(random_state=42)</pre><b>In a Jupyter environment, please rerun this cell to show the HTML representation or trust the notebook. <br />On GitHub, the HTML representation is unable to render, please try loading this page with nbviewer.org.</b></div><div class=\"sk-container\" hidden><div class=\"sk-item\"><div class=\"sk-estimator sk-toggleable\"><input class=\"sk-toggleable__control sk-hidden--visually\" id=\"sk-estimator-id-1\" type=\"checkbox\" checked><label for=\"sk-estimator-id-1\" class=\"sk-toggleable__label sk-toggleable__label-arrow\">LogisticRegression</label><div class=\"sk-toggleable__content\"><pre>LogisticRegression(random_state=42)</pre></div></div></div></div></div>"
      ],
      "text/plain": [
       "LogisticRegression(random_state=42)"
      ]
     },
     "execution_count": 36,
     "metadata": {},
     "output_type": "execute_result"
    }
   ],
   "source": [
    "# Build the Logistic Regression model\n",
    "logistic_model = LogisticRegression(random_state=42)\n",
    "logistic_model.fit(X_train, Y_train)\n"
   ]
  },
  {
   "cell_type": "markdown",
   "source": [
    "### 5. Predict the Model\n",
    "\n",
    "1. Predict Transactions as fraudulent or genuine by giving Random Sample\n",
    "2. Predict Transactions as fraudulent or genuine by using my dataset value [23\t,1.322707269,\t-0.174040833,\t0.434555031\t,0.576037652\t-0.836758046\t-0.831083411\t-0.264904961\t-0.220981943\t-1.071424618\t0.868558548\t-0.64150629\t-0.111315775\t0.36148541\t0.171945122\t0.782166532\t-1.35587073\t-0.216935153\t1.271765385\t-1.240621935\t-0.522950941\t-0.284375572\t-0.323357411\t-0.037709905\t0.347150939\t0.559639137\t-0.280158166\t0.042335258\t0.0288223\t16\t0 ]"
   ],
   "metadata": {
    "collapsed": false
   },
   "id": "317797a0"
  },
  {
   "cell_type": "code",
   "execution_count": 37,
   "id": "8a37ae90",
   "metadata": {
    "execution": {
     "iopub.execute_input": "2023-10-12T15:29:33.083377Z",
     "iopub.status.busy": "2023-10-12T15:29:33.083047Z",
     "iopub.status.idle": "2023-10-12T15:29:33.102999Z",
     "shell.execute_reply": "2023-10-12T15:29:33.101721Z"
    },
    "papermill": {
     "duration": 0.044812,
     "end_time": "2023-10-12T15:29:33.106694",
     "exception": false,
     "start_time": "2023-10-12T15:29:33.061882",
     "status": "completed"
    },
    "tags": []
   },
   "outputs": [],
   "source": [
    "Y_pred_logistic = logistic_model.predict(X_test)\n"
   ]
  },
  {
   "cell_type": "code",
   "execution_count": 38,
   "id": "048242f4",
   "metadata": {
    "execution": {
     "iopub.execute_input": "2023-10-12T15:29:33.165994Z",
     "iopub.status.busy": "2023-10-12T15:29:33.165647Z",
     "iopub.status.idle": "2023-10-12T15:29:33.179299Z",
     "shell.execute_reply": "2023-10-12T15:29:33.178545Z"
    },
    "papermill": {
     "duration": 0.049076,
     "end_time": "2023-10-12T15:29:33.181955",
     "exception": false,
     "start_time": "2023-10-12T15:29:33.132879",
     "status": "completed"
    },
    "tags": []
   },
   "outputs": [
    {
     "name": "stdout",
     "output_type": "stream",
     "text": [
      "Time: 16\n",
      "Predict: Fraudulent Transaction\n"
     ]
    }
   ],
   "source": [
    "transaction_data = pd.DataFrame({\n",
    "    'Time': [16],\n",
    "    'V1': [1.322707269],\n",
    "    'V2': [-0.174040833],\n",
    "    'V3': [0.434555031],\n",
    "    'V4': [0.576037652],\n",
    "    'V5': [-0.836758046],\n",
    "    'V6': [-0.831083411],\n",
    "    'V7': [-0.264904961],\n",
    "    'V8': [-0.220981943],\n",
    "    'V9': [-1.071424618],\n",
    "    'V10': [0.868558548],\n",
    "    'V11': [-0.64150629],\n",
    "    'V12': [-0.111315775],\n",
    "    'V13': [0.36148541],\n",
    "    'V14': [0.171945122],\n",
    "    'V15': [0.782166532],\n",
    "    'V16': [-1.35587073],\n",
    "    'V17': [-0.216935153],\n",
    "    'V18': [1.271765385],\n",
    "    'V19': [-1.240621935],\n",
    "    'V20': [-0.522950941],\n",
    "    'V21': [-0.284375572],\n",
    "    'V22': [-0.323357411],\n",
    "    'V23': [-0.037709905],\n",
    "    'V24': [0.347150939],\n",
    "    'V25': [0.559639137],\n",
    "    'V26': [-0.280158166],\n",
    "    'V27': [0.042335258],\n",
    "    'V28': [0.0288223],\n",
    "    'Amount': [0],\n",
    "    'Class': [0]  \n",
    "})\n",
    "\n",
    "new_predictions = logistic_model.predict(transaction_data.drop(columns=['Class']))\n",
    "\n",
    "if new_predictions[0] == 1:\n",
    "    print(\"Time: 16\\nPredict: Fraudulent Transaction\")\n",
    "else:\n",
    "    print(\"Time: 16\\nPredict: Genuine Transaction\")\n"
   ]
  },
  {
   "cell_type": "code",
   "execution_count": 39,
   "id": "5ef3d5cd",
   "metadata": {
    "execution": {
     "iopub.execute_input": "2023-10-12T15:29:33.224896Z",
     "iopub.status.busy": "2023-10-12T15:29:33.224545Z",
     "iopub.status.idle": "2023-10-12T15:29:33.242115Z",
     "shell.execute_reply": "2023-10-12T15:29:33.240022Z"
    },
    "papermill": {
     "duration": 0.040004,
     "end_time": "2023-10-12T15:29:33.244215",
     "exception": false,
     "start_time": "2023-10-12T15:29:33.204211",
     "status": "completed"
    },
    "tags": []
   },
   "outputs": [
    {
     "name": "stdout",
     "output_type": "stream",
     "text": [
      "Transaction 1: Genuine Transaction\n",
      "Transaction 2: Genuine Transaction\n",
      "Transaction 3: Fraudulent Transaction\n",
      "Transaction 4: Genuine Transaction\n",
      "Transaction 5: Genuine Transaction\n",
      "Transaction 6: Genuine Transaction\n",
      "Transaction 7: Genuine Transaction\n",
      "Transaction 8: Genuine Transaction\n",
      "Transaction 9: Genuine Transaction\n",
      "Transaction 10: Genuine Transaction\n",
      "Transaction 11: Genuine Transaction\n",
      "Transaction 12: Genuine Transaction\n",
      "Transaction 13: Genuine Transaction\n",
      "Transaction 14: Genuine Transaction\n",
      "Transaction 15: Genuine Transaction\n",
      "Transaction 16: Genuine Transaction\n",
      "Transaction 17: Fraudulent Transaction\n",
      "Transaction 18: Genuine Transaction\n",
      "Transaction 19: Genuine Transaction\n",
      "Transaction 20: Genuine Transaction\n",
      "Transaction 21: Fraudulent Transaction\n",
      "Transaction 22: Genuine Transaction\n",
      "Transaction 23: Genuine Transaction\n",
      "Transaction 24: Genuine Transaction\n",
      "Transaction 25: Genuine Transaction\n",
      "Transaction 26: Fraudulent Transaction\n",
      "Transaction 27: Genuine Transaction\n",
      "Transaction 28: Genuine Transaction\n"
     ]
    }
   ],
   "source": [
    "# Define the minimum and maximum 'Time' values from your training data\n",
    "min_time = data['Time'].min()\n",
    "max_time = data['Time'].max()\n",
    "\n",
    "random_transactions = []\n",
    "\n",
    "# Generate 28 random transactions\n",
    "for _ in range(28):\n",
    "    new_transaction = {\n",
    "        'Time': np.random.uniform(min_time, max_time), \n",
    "        'Amount': np.random.uniform(0, 500),\n",
    "        'V1': np.random.uniform(-2, 2),\n",
    "        'V2': np.random.uniform(-2, 2),\n",
    "        'V3': np.random.uniform(-2, 2),\n",
    "        'V4': np.random.uniform(-2, 2),\n",
    "        'V5': np.random.uniform(-2, 2),\n",
    "        'V6': np.random.uniform(-2, 2),\n",
    "        'V7': np.random.uniform(-2, 2),\n",
    "        'V8': np.random.uniform(-2, 2),\n",
    "        'V9': np.random.uniform(-2, 2),\n",
    "        'V10': np.random.uniform(-2, 2),\n",
    "        'V11': np.random.uniform(-2, 2),\n",
    "        'V12': np.random.uniform(-2, 2),\n",
    "        'V13': np.random.uniform(-2, 2),\n",
    "        'V14': np.random.uniform(-2, 2),\n",
    "        'V15': np.random.uniform(-2, 2),\n",
    "        'V16': np.random.uniform(-2, 2),\n",
    "        'V17': np.random.uniform(-2, 2),\n",
    "        'V18': np.random.uniform(-2, 2),\n",
    "        'V19': np.random.uniform(-2, 2),\n",
    "        'V20': np.random.uniform(-2, 2),\n",
    "        'V21': np.random.uniform(-2, 2),\n",
    "        'V22': np.random.uniform(-2, 2),\n",
    "        'V23': np.random.uniform(-2, 2),\n",
    "        'V24': np.random.uniform(-2, 2),\n",
    "        'V25': np.random.uniform(-2, 2),\n",
    "        'V26': np.random.uniform(-2, 2),\n",
    "        'V27': np.random.uniform(-2, 2),\n",
    "        'V28': np.random.uniform(-2, 2),\n",
    "    }\n",
    "    random_transactions.append(new_transaction)\n",
    "\n",
    "\n",
    "random_data = pd.DataFrame(random_transactions, columns=X_train.columns)  # Use the same feature order\n",
    "random_predictions = logistic_model.predict(random_data)\n",
    "\n",
    "for i, prediction in enumerate(random_predictions):\n",
    "    if prediction == 0:\n",
    "        print(f\"Transaction {i + 1}: Genuine Transaction\")\n",
    "    else:\n",
    "        print(f\"Transaction {i + 1}: Fraudulent Transaction\")\n"
   ]
  },
  {
   "cell_type": "code",
   "execution_count": 40,
   "id": "8313155e",
   "metadata": {
    "execution": {
     "iopub.execute_input": "2023-10-12T15:29:33.306662Z",
     "iopub.status.busy": "2023-10-12T15:29:33.306304Z",
     "iopub.status.idle": "2023-10-12T15:29:33.507110Z",
     "shell.execute_reply": "2023-10-12T15:29:33.505855Z"
    },
    "papermill": {
     "duration": 0.219672,
     "end_time": "2023-10-12T15:29:33.509126",
     "exception": false,
     "start_time": "2023-10-12T15:29:33.289454",
     "status": "completed"
    },
    "tags": []
   },
   "outputs": [
    {
     "name": "stdout",
     "output_type": "stream",
     "text": [
      "Logistic Regression Model - Confusion Matrix:\n",
      "                     Predicted Negative (0)  Predicted Positive (1)\n",
      "Actual Negative (0)                   55225                    1238\n",
      "Actual Positive (1)                    2120                   54719\n",
      "\n",
      "Logistic Regression Model - Classification Report:\n",
      "                      0             1  accuracy      macro avg   weighted avg\n",
      "precision      0.963031      0.977876  0.970362       0.970453       0.970478\n",
      "recall         0.978074      0.962702  0.970362       0.970388       0.970362\n",
      "f1-score       0.970494      0.970229  0.970362       0.970362       0.970361\n",
      "support    56463.000000  56839.000000  0.970362  113302.000000  113302.000000\n"
     ]
    }
   ],
   "source": [
    "# Calculate performance metrics for the Logistic Regression model\n",
    "confusion_matrix_logistic = confusion_matrix(Y_test, Y_pred_logistic)\n",
    "classification_report_logistic = classification_report(Y_test, Y_pred_logistic, output_dict=True)\n",
    "\n",
    "confusion_matrix_df = pd.DataFrame(confusion_matrix_logistic, \n",
    "                                   columns=[\"Predicted Negative (0)\", \"Predicted Positive (1)\"],\n",
    "                                   index=[\"Actual Negative (0)\", \"Actual Positive (1)\"])\n",
    "\n",
    "classification_report_df = pd.DataFrame(classification_report_logistic)\n",
    "\n",
    "print(\"Logistic Regression Model - Confusion Matrix:\")\n",
    "print(confusion_matrix_df)\n",
    "\n",
    "print(\"\\nLogistic Regression Model - Classification Report:\")\n",
    "print(classification_report_df)"
   ]
  },
  {
   "cell_type": "code",
   "execution_count": 41,
   "id": "17e5658b",
   "metadata": {
    "execution": {
     "iopub.execute_input": "2023-10-12T15:29:33.544114Z",
     "iopub.status.busy": "2023-10-12T15:29:33.543761Z",
     "iopub.status.idle": "2023-10-12T15:29:33.804608Z",
     "shell.execute_reply": "2023-10-12T15:29:33.802642Z"
    },
    "papermill": {
     "duration": 0.28203,
     "end_time": "2023-10-12T15:29:33.806612",
     "exception": false,
     "start_time": "2023-10-12T15:29:33.524582",
     "status": "completed"
    },
    "tags": []
   },
   "outputs": [
    {
     "data": {
      "image/png": "[encoded data removed]",
      "text/plain": [
       "<Figure size 700x500 with 2 Axes>"
      ]
     },
     "metadata": {},
     "output_type": "display_data"
    }
   ],
   "source": [
    "plt.figure(figsize=(7, 5))\n",
    "sns.heatmap(confusion_matrix_df, annot=True, fmt=\"d\", cmap=\"Blues\")\n",
    "plt.title(\"Confusion Matrix\")\n",
    "plt.xlabel(\"Predicted\")\n",
    "plt.ylabel(\"Actual\")\n",
    "plt.show()"
   ]
  },
  {
   "cell_type": "code",
   "execution_count": 42,
   "id": "3964f210",
   "metadata": {
    "execution": {
     "iopub.execute_input": "2023-10-12T15:29:33.839066Z",
     "iopub.status.busy": "2023-10-12T15:29:33.838315Z",
     "iopub.status.idle": "2023-10-12T15:29:34.119536Z",
     "shell.execute_reply": "2023-10-12T15:29:34.117841Z"
    },
    "papermill": {
     "duration": 0.300062,
     "end_time": "2023-10-12T15:29:34.122391",
     "exception": false,
     "start_time": "2023-10-12T15:29:33.822329",
     "status": "completed"
    },
    "tags": []
   },
   "outputs": [
    {
     "data": {
      "image/png": "[encoded data removed]",
      "text/plain": [
       "<Figure size 700x500 with 1 Axes>"
      ]
     },
     "metadata": {},
     "output_type": "display_data"
    }
   ],
   "source": [
    "# Calculate ROC-AUC Score and Plot ROC Curve\n",
    "from sklearn.metrics import roc_curve, auc\n",
    "y_scores = logistic_model.predict_proba(X_test)[:, 1]\n",
    "fpr, tpr, thresholds = roc_curve(Y_test, y_scores)\n",
    "roc_auc = auc(fpr, tpr)\n",
    "\n",
    "plt.figure(figsize=(7, 5))\n",
    "plt.plot(fpr, tpr, color='blue', lw=2, label='ROC curve (area = %0.2f)' % roc_auc)\n",
    "plt.plot([0, 1], [0, 1], color='gold', lw=2, linestyle='--')\n",
    "plt.xlim([0.0, 1.0])\n",
    "plt.ylim([0.0, 1.05])\n",
    "plt.xlabel('False Positive Rate')\n",
    "plt.ylabel('True Positive Rate')\n",
    "plt.title('Receiver Operating Characteristic (ROC)')\n",
    "plt.legend(loc=\"lower right\")\n",
    "plt.show()"
   ]
  },
  {
   "cell_type": "code",
   "execution_count": 43,
   "id": "382dd6a1",
   "metadata": {
    "execution": {
     "iopub.execute_input": "2023-10-12T15:29:34.159109Z",
     "iopub.status.busy": "2023-10-12T15:29:34.158521Z",
     "iopub.status.idle": "2023-10-12T15:29:34.407891Z",
     "shell.execute_reply": "2023-10-12T15:29:34.406773Z"
    },
    "papermill": {
     "duration": 0.273331,
     "end_time": "2023-10-12T15:29:34.410283",
     "exception": false,
     "start_time": "2023-10-12T15:29:34.136952",
     "status": "completed"
    },
    "tags": []
   },
   "outputs": [
    {
     "data": {
      "image/png": "[encoded data removed]",
      "text/plain": [
       "<Figure size 800x600 with 1 Axes>"
      ]
     },
     "metadata": {},
     "output_type": "display_data"
    }
   ],
   "source": [
    "fraud_metrics = [classification_report_df['0']['precision'], classification_report_df['0']['recall'], classification_report_df['0']['f1-score']]\n",
    "legitimate_metrics = [classification_report_df['1']['precision'], classification_report_df['1']['recall'], classification_report_df['1']['f1-score']]\n",
    "\n",
    "metrics_labels = ['Precision', 'Recall', 'F1-Score']\n",
    "x = range(len(metrics_labels))\n",
    "\n",
    "plt.figure(figsize=(8, 6))\n",
    "plt.bar(x, fraud_metrics, width=0.4, label='Fraudulent', align='center', color='gold')\n",
    "plt.bar(x, legitimate_metrics, width=0.4, label='Genuine', align='edge', color='blue')\n",
    "plt.xlabel('Metrics')\n",
    "plt.xticks(x, metrics_labels)\n",
    "plt.title(\"Precision, Recall, and F1-Score by Class\")\n",
    "plt.legend()\n",
    "plt.show()\n"
   ]
  }
 ],
 "metadata": {
  "kernelspec": {
   "display_name": "Python 3",
   "language": "python",
   "name": "python3"
  },
  "language_info": {
   "codemirror_mode": {
    "name": "ipython",
    "version": 3
   },
   "file_extension": ".py",
   "mimetype": "text/x-python",
   "name": "python",
   "nbconvert_exporter": "python",
   "pygments_lexer": "ipython3",
   "version": "3.10.12"
  },
  "papermill": {
   "default_parameters": {},
   "duration": 31.560112,
   "end_time": "2023-10-12T15:29:35.386172",
   "environment_variables": {},
   "exception": null,
   "input_path": "__notebook__.ipynb",
   "output_path": "__notebook__.ipynb",
   "parameters": {},
   "start_time": "2023-10-12T15:29:03.826060",
   "version": "2.4.0"
  }
 },
 "nbformat": 4,
 "nbformat_minor": 5
}
